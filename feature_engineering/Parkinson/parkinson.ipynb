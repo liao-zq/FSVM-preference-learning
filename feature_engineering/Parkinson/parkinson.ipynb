{
 "cells": [
  {
   "cell_type": "code",
   "execution_count": 1,
   "metadata": {},
   "outputs": [],
   "source": [
    "import numpy as np \n",
    "import pandas as pd\n",
    "import seaborn as sns\n",
    "import matplotlib.pyplot as plt\n",
    "%matplotlib inline"
   ]
  },
  {
   "cell_type": "code",
   "execution_count": 429,
   "metadata": {},
   "outputs": [
    {
     "data": {
      "text/html": [
       "<div>\n",
       "<style scoped>\n",
       "    .dataframe tbody tr th:only-of-type {\n",
       "        vertical-align: middle;\n",
       "    }\n",
       "\n",
       "    .dataframe tbody tr th {\n",
       "        vertical-align: top;\n",
       "    }\n",
       "\n",
       "    .dataframe thead th {\n",
       "        text-align: right;\n",
       "    }\n",
       "</style>\n",
       "<table border=\"1\" class=\"dataframe\">\n",
       "  <thead>\n",
       "    <tr style=\"text-align: right;\">\n",
       "      <th></th>\n",
       "      <th>subject#</th>\n",
       "      <th>age</th>\n",
       "      <th>sex</th>\n",
       "      <th>test_time</th>\n",
       "      <th>motor_UPDRS</th>\n",
       "      <th>total_UPDRS</th>\n",
       "      <th>Jitter(%)</th>\n",
       "      <th>Jitter(Abs)</th>\n",
       "      <th>Jitter:RAP</th>\n",
       "      <th>Jitter:PPQ5</th>\n",
       "      <th>...</th>\n",
       "      <th>Shimmer(dB)</th>\n",
       "      <th>Shimmer:APQ3</th>\n",
       "      <th>Shimmer:APQ5</th>\n",
       "      <th>Shimmer:APQ11</th>\n",
       "      <th>Shimmer:DDA</th>\n",
       "      <th>NHR</th>\n",
       "      <th>HNR</th>\n",
       "      <th>RPDE</th>\n",
       "      <th>DFA</th>\n",
       "      <th>PPE</th>\n",
       "    </tr>\n",
       "  </thead>\n",
       "  <tbody>\n",
       "    <tr>\n",
       "      <th>0</th>\n",
       "      <td>1</td>\n",
       "      <td>72</td>\n",
       "      <td>0</td>\n",
       "      <td>5.6431</td>\n",
       "      <td>28.199</td>\n",
       "      <td>34.398</td>\n",
       "      <td>0.00662</td>\n",
       "      <td>0.000034</td>\n",
       "      <td>0.00401</td>\n",
       "      <td>0.00317</td>\n",
       "      <td>...</td>\n",
       "      <td>0.230</td>\n",
       "      <td>0.01438</td>\n",
       "      <td>0.01309</td>\n",
       "      <td>0.01662</td>\n",
       "      <td>0.04314</td>\n",
       "      <td>0.014290</td>\n",
       "      <td>21.640</td>\n",
       "      <td>0.41888</td>\n",
       "      <td>0.54842</td>\n",
       "      <td>0.16006</td>\n",
       "    </tr>\n",
       "    <tr>\n",
       "      <th>1</th>\n",
       "      <td>1</td>\n",
       "      <td>72</td>\n",
       "      <td>0</td>\n",
       "      <td>12.6660</td>\n",
       "      <td>28.447</td>\n",
       "      <td>34.894</td>\n",
       "      <td>0.00300</td>\n",
       "      <td>0.000017</td>\n",
       "      <td>0.00132</td>\n",
       "      <td>0.00150</td>\n",
       "      <td>...</td>\n",
       "      <td>0.179</td>\n",
       "      <td>0.00994</td>\n",
       "      <td>0.01072</td>\n",
       "      <td>0.01689</td>\n",
       "      <td>0.02982</td>\n",
       "      <td>0.011112</td>\n",
       "      <td>27.183</td>\n",
       "      <td>0.43493</td>\n",
       "      <td>0.56477</td>\n",
       "      <td>0.10810</td>\n",
       "    </tr>\n",
       "    <tr>\n",
       "      <th>2</th>\n",
       "      <td>1</td>\n",
       "      <td>72</td>\n",
       "      <td>0</td>\n",
       "      <td>19.6810</td>\n",
       "      <td>28.695</td>\n",
       "      <td>35.389</td>\n",
       "      <td>0.00481</td>\n",
       "      <td>0.000025</td>\n",
       "      <td>0.00205</td>\n",
       "      <td>0.00208</td>\n",
       "      <td>...</td>\n",
       "      <td>0.181</td>\n",
       "      <td>0.00734</td>\n",
       "      <td>0.00844</td>\n",
       "      <td>0.01458</td>\n",
       "      <td>0.02202</td>\n",
       "      <td>0.020220</td>\n",
       "      <td>23.047</td>\n",
       "      <td>0.46222</td>\n",
       "      <td>0.54405</td>\n",
       "      <td>0.21014</td>\n",
       "    </tr>\n",
       "    <tr>\n",
       "      <th>3</th>\n",
       "      <td>1</td>\n",
       "      <td>72</td>\n",
       "      <td>0</td>\n",
       "      <td>25.6470</td>\n",
       "      <td>28.905</td>\n",
       "      <td>35.810</td>\n",
       "      <td>0.00528</td>\n",
       "      <td>0.000027</td>\n",
       "      <td>0.00191</td>\n",
       "      <td>0.00264</td>\n",
       "      <td>...</td>\n",
       "      <td>0.327</td>\n",
       "      <td>0.01106</td>\n",
       "      <td>0.01265</td>\n",
       "      <td>0.01963</td>\n",
       "      <td>0.03317</td>\n",
       "      <td>0.027837</td>\n",
       "      <td>24.445</td>\n",
       "      <td>0.48730</td>\n",
       "      <td>0.57794</td>\n",
       "      <td>0.33277</td>\n",
       "    </tr>\n",
       "    <tr>\n",
       "      <th>4</th>\n",
       "      <td>1</td>\n",
       "      <td>72</td>\n",
       "      <td>0</td>\n",
       "      <td>33.6420</td>\n",
       "      <td>29.187</td>\n",
       "      <td>36.375</td>\n",
       "      <td>0.00335</td>\n",
       "      <td>0.000020</td>\n",
       "      <td>0.00093</td>\n",
       "      <td>0.00130</td>\n",
       "      <td>...</td>\n",
       "      <td>0.176</td>\n",
       "      <td>0.00679</td>\n",
       "      <td>0.00929</td>\n",
       "      <td>0.01819</td>\n",
       "      <td>0.02036</td>\n",
       "      <td>0.011625</td>\n",
       "      <td>26.126</td>\n",
       "      <td>0.47188</td>\n",
       "      <td>0.56122</td>\n",
       "      <td>0.19361</td>\n",
       "    </tr>\n",
       "  </tbody>\n",
       "</table>\n",
       "<p>5 rows × 22 columns</p>\n",
       "</div>"
      ],
      "text/plain": [
       "   subject#  age  sex  test_time  motor_UPDRS  total_UPDRS  Jitter(%)  \\\n",
       "0         1   72    0     5.6431       28.199       34.398    0.00662   \n",
       "1         1   72    0    12.6660       28.447       34.894    0.00300   \n",
       "2         1   72    0    19.6810       28.695       35.389    0.00481   \n",
       "3         1   72    0    25.6470       28.905       35.810    0.00528   \n",
       "4         1   72    0    33.6420       29.187       36.375    0.00335   \n",
       "\n",
       "   Jitter(Abs)  Jitter:RAP  Jitter:PPQ5  ...  Shimmer(dB)  Shimmer:APQ3  \\\n",
       "0     0.000034     0.00401      0.00317  ...        0.230       0.01438   \n",
       "1     0.000017     0.00132      0.00150  ...        0.179       0.00994   \n",
       "2     0.000025     0.00205      0.00208  ...        0.181       0.00734   \n",
       "3     0.000027     0.00191      0.00264  ...        0.327       0.01106   \n",
       "4     0.000020     0.00093      0.00130  ...        0.176       0.00679   \n",
       "\n",
       "   Shimmer:APQ5  Shimmer:APQ11  Shimmer:DDA       NHR     HNR     RPDE  \\\n",
       "0       0.01309        0.01662      0.04314  0.014290  21.640  0.41888   \n",
       "1       0.01072        0.01689      0.02982  0.011112  27.183  0.43493   \n",
       "2       0.00844        0.01458      0.02202  0.020220  23.047  0.46222   \n",
       "3       0.01265        0.01963      0.03317  0.027837  24.445  0.48730   \n",
       "4       0.00929        0.01819      0.02036  0.011625  26.126  0.47188   \n",
       "\n",
       "       DFA      PPE  \n",
       "0  0.54842  0.16006  \n",
       "1  0.56477  0.10810  \n",
       "2  0.54405  0.21014  \n",
       "3  0.57794  0.33277  \n",
       "4  0.56122  0.19361  \n",
       "\n",
       "[5 rows x 22 columns]"
      ]
     },
     "execution_count": 429,
     "metadata": {},
     "output_type": "execute_result"
    }
   ],
   "source": [
    "df = pd.read_excel(\"parkinsons_updrs.xlsx\")\n",
    "df.head(5)"
   ]
  },
  {
   "cell_type": "code",
   "execution_count": 430,
   "metadata": {},
   "outputs": [
    {
     "data": {
      "text/plain": [
       "(5875, 22)"
      ]
     },
     "execution_count": 430,
     "metadata": {},
     "output_type": "execute_result"
    }
   ],
   "source": [
    "df.shape"
   ]
  },
  {
   "cell_type": "code",
   "execution_count": 431,
   "metadata": {},
   "outputs": [
    {
     "data": {
      "text/plain": [
       "subject#           int64\n",
       "age                int64\n",
       "sex                int64\n",
       "test_time        float64\n",
       "motor_UPDRS      float64\n",
       "total_UPDRS      float64\n",
       "Jitter(%)        float64\n",
       "Jitter(Abs)      float64\n",
       "Jitter:RAP       float64\n",
       "Jitter:PPQ5      float64\n",
       "Jitter:DDP       float64\n",
       "Shimmer          float64\n",
       "Shimmer(dB)      float64\n",
       "Shimmer:APQ3     float64\n",
       "Shimmer:APQ5     float64\n",
       "Shimmer:APQ11    float64\n",
       "Shimmer:DDA      float64\n",
       "NHR              float64\n",
       "HNR              float64\n",
       "RPDE             float64\n",
       "DFA              float64\n",
       "PPE              float64\n",
       "dtype: object"
      ]
     },
     "execution_count": 431,
     "metadata": {},
     "output_type": "execute_result"
    }
   ],
   "source": [
    "df.dtypes"
   ]
  },
  {
   "cell_type": "code",
   "execution_count": 432,
   "metadata": {},
   "outputs": [],
   "source": [
    "df = df.drop(['test_time'], axis = 1)"
   ]
  },
  {
   "cell_type": "code",
   "execution_count": 433,
   "metadata": {},
   "outputs": [
    {
     "data": {
      "text/html": [
       "<div>\n",
       "<style scoped>\n",
       "    .dataframe tbody tr th:only-of-type {\n",
       "        vertical-align: middle;\n",
       "    }\n",
       "\n",
       "    .dataframe tbody tr th {\n",
       "        vertical-align: top;\n",
       "    }\n",
       "\n",
       "    .dataframe thead th {\n",
       "        text-align: right;\n",
       "    }\n",
       "</style>\n",
       "<table border=\"1\" class=\"dataframe\">\n",
       "  <thead>\n",
       "    <tr style=\"text-align: right;\">\n",
       "      <th></th>\n",
       "      <th>subject#</th>\n",
       "      <th>age</th>\n",
       "      <th>sex</th>\n",
       "      <th>motor_UPDRS</th>\n",
       "      <th>total_UPDRS</th>\n",
       "      <th>Jitter(%)</th>\n",
       "      <th>Jitter(Abs)</th>\n",
       "      <th>Jitter:RAP</th>\n",
       "      <th>Jitter:PPQ5</th>\n",
       "      <th>Jitter:DDP</th>\n",
       "      <th>...</th>\n",
       "      <th>Shimmer(dB)</th>\n",
       "      <th>Shimmer:APQ3</th>\n",
       "      <th>Shimmer:APQ5</th>\n",
       "      <th>Shimmer:APQ11</th>\n",
       "      <th>Shimmer:DDA</th>\n",
       "      <th>NHR</th>\n",
       "      <th>HNR</th>\n",
       "      <th>RPDE</th>\n",
       "      <th>DFA</th>\n",
       "      <th>PPE</th>\n",
       "    </tr>\n",
       "  </thead>\n",
       "  <tbody>\n",
       "    <tr>\n",
       "      <th>0</th>\n",
       "      <td>1</td>\n",
       "      <td>72</td>\n",
       "      <td>0</td>\n",
       "      <td>28.199</td>\n",
       "      <td>34.398</td>\n",
       "      <td>0.00662</td>\n",
       "      <td>0.000034</td>\n",
       "      <td>0.00401</td>\n",
       "      <td>0.00317</td>\n",
       "      <td>0.01204</td>\n",
       "      <td>...</td>\n",
       "      <td>0.230</td>\n",
       "      <td>0.01438</td>\n",
       "      <td>0.01309</td>\n",
       "      <td>0.01662</td>\n",
       "      <td>0.04314</td>\n",
       "      <td>0.014290</td>\n",
       "      <td>21.640</td>\n",
       "      <td>0.41888</td>\n",
       "      <td>0.54842</td>\n",
       "      <td>0.16006</td>\n",
       "    </tr>\n",
       "    <tr>\n",
       "      <th>1</th>\n",
       "      <td>1</td>\n",
       "      <td>72</td>\n",
       "      <td>0</td>\n",
       "      <td>28.447</td>\n",
       "      <td>34.894</td>\n",
       "      <td>0.00300</td>\n",
       "      <td>0.000017</td>\n",
       "      <td>0.00132</td>\n",
       "      <td>0.00150</td>\n",
       "      <td>0.00395</td>\n",
       "      <td>...</td>\n",
       "      <td>0.179</td>\n",
       "      <td>0.00994</td>\n",
       "      <td>0.01072</td>\n",
       "      <td>0.01689</td>\n",
       "      <td>0.02982</td>\n",
       "      <td>0.011112</td>\n",
       "      <td>27.183</td>\n",
       "      <td>0.43493</td>\n",
       "      <td>0.56477</td>\n",
       "      <td>0.10810</td>\n",
       "    </tr>\n",
       "    <tr>\n",
       "      <th>2</th>\n",
       "      <td>1</td>\n",
       "      <td>72</td>\n",
       "      <td>0</td>\n",
       "      <td>28.695</td>\n",
       "      <td>35.389</td>\n",
       "      <td>0.00481</td>\n",
       "      <td>0.000025</td>\n",
       "      <td>0.00205</td>\n",
       "      <td>0.00208</td>\n",
       "      <td>0.00616</td>\n",
       "      <td>...</td>\n",
       "      <td>0.181</td>\n",
       "      <td>0.00734</td>\n",
       "      <td>0.00844</td>\n",
       "      <td>0.01458</td>\n",
       "      <td>0.02202</td>\n",
       "      <td>0.020220</td>\n",
       "      <td>23.047</td>\n",
       "      <td>0.46222</td>\n",
       "      <td>0.54405</td>\n",
       "      <td>0.21014</td>\n",
       "    </tr>\n",
       "    <tr>\n",
       "      <th>3</th>\n",
       "      <td>1</td>\n",
       "      <td>72</td>\n",
       "      <td>0</td>\n",
       "      <td>28.905</td>\n",
       "      <td>35.810</td>\n",
       "      <td>0.00528</td>\n",
       "      <td>0.000027</td>\n",
       "      <td>0.00191</td>\n",
       "      <td>0.00264</td>\n",
       "      <td>0.00573</td>\n",
       "      <td>...</td>\n",
       "      <td>0.327</td>\n",
       "      <td>0.01106</td>\n",
       "      <td>0.01265</td>\n",
       "      <td>0.01963</td>\n",
       "      <td>0.03317</td>\n",
       "      <td>0.027837</td>\n",
       "      <td>24.445</td>\n",
       "      <td>0.48730</td>\n",
       "      <td>0.57794</td>\n",
       "      <td>0.33277</td>\n",
       "    </tr>\n",
       "    <tr>\n",
       "      <th>4</th>\n",
       "      <td>1</td>\n",
       "      <td>72</td>\n",
       "      <td>0</td>\n",
       "      <td>29.187</td>\n",
       "      <td>36.375</td>\n",
       "      <td>0.00335</td>\n",
       "      <td>0.000020</td>\n",
       "      <td>0.00093</td>\n",
       "      <td>0.00130</td>\n",
       "      <td>0.00278</td>\n",
       "      <td>...</td>\n",
       "      <td>0.176</td>\n",
       "      <td>0.00679</td>\n",
       "      <td>0.00929</td>\n",
       "      <td>0.01819</td>\n",
       "      <td>0.02036</td>\n",
       "      <td>0.011625</td>\n",
       "      <td>26.126</td>\n",
       "      <td>0.47188</td>\n",
       "      <td>0.56122</td>\n",
       "      <td>0.19361</td>\n",
       "    </tr>\n",
       "    <tr>\n",
       "      <th>...</th>\n",
       "      <td>...</td>\n",
       "      <td>...</td>\n",
       "      <td>...</td>\n",
       "      <td>...</td>\n",
       "      <td>...</td>\n",
       "      <td>...</td>\n",
       "      <td>...</td>\n",
       "      <td>...</td>\n",
       "      <td>...</td>\n",
       "      <td>...</td>\n",
       "      <td>...</td>\n",
       "      <td>...</td>\n",
       "      <td>...</td>\n",
       "      <td>...</td>\n",
       "      <td>...</td>\n",
       "      <td>...</td>\n",
       "      <td>...</td>\n",
       "      <td>...</td>\n",
       "      <td>...</td>\n",
       "      <td>...</td>\n",
       "      <td>...</td>\n",
       "    </tr>\n",
       "    <tr>\n",
       "      <th>5870</th>\n",
       "      <td>42</td>\n",
       "      <td>61</td>\n",
       "      <td>0</td>\n",
       "      <td>22.485</td>\n",
       "      <td>33.485</td>\n",
       "      <td>0.00406</td>\n",
       "      <td>0.000031</td>\n",
       "      <td>0.00167</td>\n",
       "      <td>0.00168</td>\n",
       "      <td>0.00500</td>\n",
       "      <td>...</td>\n",
       "      <td>0.160</td>\n",
       "      <td>0.00973</td>\n",
       "      <td>0.01133</td>\n",
       "      <td>0.01549</td>\n",
       "      <td>0.02920</td>\n",
       "      <td>0.025137</td>\n",
       "      <td>22.369</td>\n",
       "      <td>0.64215</td>\n",
       "      <td>0.55314</td>\n",
       "      <td>0.21367</td>\n",
       "    </tr>\n",
       "    <tr>\n",
       "      <th>5871</th>\n",
       "      <td>42</td>\n",
       "      <td>61</td>\n",
       "      <td>0</td>\n",
       "      <td>21.988</td>\n",
       "      <td>32.988</td>\n",
       "      <td>0.00297</td>\n",
       "      <td>0.000025</td>\n",
       "      <td>0.00119</td>\n",
       "      <td>0.00147</td>\n",
       "      <td>0.00358</td>\n",
       "      <td>...</td>\n",
       "      <td>0.215</td>\n",
       "      <td>0.01052</td>\n",
       "      <td>0.01277</td>\n",
       "      <td>0.01904</td>\n",
       "      <td>0.03157</td>\n",
       "      <td>0.011927</td>\n",
       "      <td>22.886</td>\n",
       "      <td>0.52598</td>\n",
       "      <td>0.56518</td>\n",
       "      <td>0.12621</td>\n",
       "    </tr>\n",
       "    <tr>\n",
       "      <th>5872</th>\n",
       "      <td>42</td>\n",
       "      <td>61</td>\n",
       "      <td>0</td>\n",
       "      <td>21.495</td>\n",
       "      <td>32.495</td>\n",
       "      <td>0.00349</td>\n",
       "      <td>0.000025</td>\n",
       "      <td>0.00152</td>\n",
       "      <td>0.00187</td>\n",
       "      <td>0.00456</td>\n",
       "      <td>...</td>\n",
       "      <td>0.244</td>\n",
       "      <td>0.01371</td>\n",
       "      <td>0.01456</td>\n",
       "      <td>0.01877</td>\n",
       "      <td>0.04112</td>\n",
       "      <td>0.017701</td>\n",
       "      <td>25.065</td>\n",
       "      <td>0.47792</td>\n",
       "      <td>0.57888</td>\n",
       "      <td>0.14157</td>\n",
       "    </tr>\n",
       "    <tr>\n",
       "      <th>5873</th>\n",
       "      <td>42</td>\n",
       "      <td>61</td>\n",
       "      <td>0</td>\n",
       "      <td>21.007</td>\n",
       "      <td>32.007</td>\n",
       "      <td>0.00281</td>\n",
       "      <td>0.000020</td>\n",
       "      <td>0.00128</td>\n",
       "      <td>0.00151</td>\n",
       "      <td>0.00383</td>\n",
       "      <td>...</td>\n",
       "      <td>0.131</td>\n",
       "      <td>0.00693</td>\n",
       "      <td>0.00870</td>\n",
       "      <td>0.01307</td>\n",
       "      <td>0.02078</td>\n",
       "      <td>0.007984</td>\n",
       "      <td>24.422</td>\n",
       "      <td>0.56865</td>\n",
       "      <td>0.56327</td>\n",
       "      <td>0.14204</td>\n",
       "    </tr>\n",
       "    <tr>\n",
       "      <th>5874</th>\n",
       "      <td>42</td>\n",
       "      <td>61</td>\n",
       "      <td>0</td>\n",
       "      <td>20.513</td>\n",
       "      <td>31.513</td>\n",
       "      <td>0.00282</td>\n",
       "      <td>0.000021</td>\n",
       "      <td>0.00135</td>\n",
       "      <td>0.00166</td>\n",
       "      <td>0.00406</td>\n",
       "      <td>...</td>\n",
       "      <td>0.171</td>\n",
       "      <td>0.00946</td>\n",
       "      <td>0.01154</td>\n",
       "      <td>0.01470</td>\n",
       "      <td>0.02839</td>\n",
       "      <td>0.008172</td>\n",
       "      <td>23.259</td>\n",
       "      <td>0.58608</td>\n",
       "      <td>0.57077</td>\n",
       "      <td>0.15336</td>\n",
       "    </tr>\n",
       "  </tbody>\n",
       "</table>\n",
       "<p>5875 rows × 21 columns</p>\n",
       "</div>"
      ],
      "text/plain": [
       "      subject#  age  sex  motor_UPDRS  total_UPDRS  Jitter(%)  Jitter(Abs)  \\\n",
       "0            1   72    0       28.199       34.398    0.00662     0.000034   \n",
       "1            1   72    0       28.447       34.894    0.00300     0.000017   \n",
       "2            1   72    0       28.695       35.389    0.00481     0.000025   \n",
       "3            1   72    0       28.905       35.810    0.00528     0.000027   \n",
       "4            1   72    0       29.187       36.375    0.00335     0.000020   \n",
       "...        ...  ...  ...          ...          ...        ...          ...   \n",
       "5870        42   61    0       22.485       33.485    0.00406     0.000031   \n",
       "5871        42   61    0       21.988       32.988    0.00297     0.000025   \n",
       "5872        42   61    0       21.495       32.495    0.00349     0.000025   \n",
       "5873        42   61    0       21.007       32.007    0.00281     0.000020   \n",
       "5874        42   61    0       20.513       31.513    0.00282     0.000021   \n",
       "\n",
       "      Jitter:RAP  Jitter:PPQ5  Jitter:DDP  ...  Shimmer(dB)  Shimmer:APQ3  \\\n",
       "0        0.00401      0.00317     0.01204  ...        0.230       0.01438   \n",
       "1        0.00132      0.00150     0.00395  ...        0.179       0.00994   \n",
       "2        0.00205      0.00208     0.00616  ...        0.181       0.00734   \n",
       "3        0.00191      0.00264     0.00573  ...        0.327       0.01106   \n",
       "4        0.00093      0.00130     0.00278  ...        0.176       0.00679   \n",
       "...          ...          ...         ...  ...          ...           ...   \n",
       "5870     0.00167      0.00168     0.00500  ...        0.160       0.00973   \n",
       "5871     0.00119      0.00147     0.00358  ...        0.215       0.01052   \n",
       "5872     0.00152      0.00187     0.00456  ...        0.244       0.01371   \n",
       "5873     0.00128      0.00151     0.00383  ...        0.131       0.00693   \n",
       "5874     0.00135      0.00166     0.00406  ...        0.171       0.00946   \n",
       "\n",
       "      Shimmer:APQ5  Shimmer:APQ11  Shimmer:DDA       NHR     HNR     RPDE  \\\n",
       "0          0.01309        0.01662      0.04314  0.014290  21.640  0.41888   \n",
       "1          0.01072        0.01689      0.02982  0.011112  27.183  0.43493   \n",
       "2          0.00844        0.01458      0.02202  0.020220  23.047  0.46222   \n",
       "3          0.01265        0.01963      0.03317  0.027837  24.445  0.48730   \n",
       "4          0.00929        0.01819      0.02036  0.011625  26.126  0.47188   \n",
       "...            ...            ...          ...       ...     ...      ...   \n",
       "5870       0.01133        0.01549      0.02920  0.025137  22.369  0.64215   \n",
       "5871       0.01277        0.01904      0.03157  0.011927  22.886  0.52598   \n",
       "5872       0.01456        0.01877      0.04112  0.017701  25.065  0.47792   \n",
       "5873       0.00870        0.01307      0.02078  0.007984  24.422  0.56865   \n",
       "5874       0.01154        0.01470      0.02839  0.008172  23.259  0.58608   \n",
       "\n",
       "          DFA      PPE  \n",
       "0     0.54842  0.16006  \n",
       "1     0.56477  0.10810  \n",
       "2     0.54405  0.21014  \n",
       "3     0.57794  0.33277  \n",
       "4     0.56122  0.19361  \n",
       "...       ...      ...  \n",
       "5870  0.55314  0.21367  \n",
       "5871  0.56518  0.12621  \n",
       "5872  0.57888  0.14157  \n",
       "5873  0.56327  0.14204  \n",
       "5874  0.57077  0.15336  \n",
       "\n",
       "[5875 rows x 21 columns]"
      ]
     },
     "execution_count": 433,
     "metadata": {},
     "output_type": "execute_result"
    }
   ],
   "source": [
    "df"
   ]
  },
  {
   "cell_type": "markdown",
   "metadata": {},
   "source": [
    "\n",
    "\n",
    "\n",
    "# feature engineering"
   ]
  },
  {
   "cell_type": "code",
   "execution_count": 434,
   "metadata": {},
   "outputs": [
    {
     "name": "stderr",
     "output_type": "stream",
     "text": [
      "<ipython-input-434-34a76d6afff5>:4: SettingWithCopyWarning: \n",
      "A value is trying to be set on a copy of a slice from a DataFrame\n",
      "\n",
      "See the caveats in the documentation: https://pandas.pydata.org/pandas-docs/stable/user_guide/indexing.html#returning-a-view-versus-a-copy\n",
      "  df['age'][idx] = 5\n",
      "<ipython-input-434-34a76d6afff5>:10: SettingWithCopyWarning: \n",
      "A value is trying to be set on a copy of a slice from a DataFrame\n",
      "\n",
      "See the caveats in the documentation: https://pandas.pydata.org/pandas-docs/stable/user_guide/indexing.html#returning-a-view-versus-a-copy\n",
      "  df['age'][idx] = 3\n",
      "<ipython-input-434-34a76d6afff5>:8: SettingWithCopyWarning: \n",
      "A value is trying to be set on a copy of a slice from a DataFrame\n",
      "\n",
      "See the caveats in the documentation: https://pandas.pydata.org/pandas-docs/stable/user_guide/indexing.html#returning-a-view-versus-a-copy\n",
      "  df['age'][idx] = 4\n",
      "<ipython-input-434-34a76d6afff5>:12: SettingWithCopyWarning: \n",
      "A value is trying to be set on a copy of a slice from a DataFrame\n",
      "\n",
      "See the caveats in the documentation: https://pandas.pydata.org/pandas-docs/stable/user_guide/indexing.html#returning-a-view-versus-a-copy\n",
      "  df['age'][idx] = 2\n",
      "<ipython-input-434-34a76d6afff5>:14: SettingWithCopyWarning: \n",
      "A value is trying to be set on a copy of a slice from a DataFrame\n",
      "\n",
      "See the caveats in the documentation: https://pandas.pydata.org/pandas-docs/stable/user_guide/indexing.html#returning-a-view-versus-a-copy\n",
      "  df['age'][idx] = 1\n",
      "<ipython-input-434-34a76d6afff5>:6: SettingWithCopyWarning: \n",
      "A value is trying to be set on a copy of a slice from a DataFrame\n",
      "\n",
      "See the caveats in the documentation: https://pandas.pydata.org/pandas-docs/stable/user_guide/indexing.html#returning-a-view-versus-a-copy\n",
      "  df['age'][idx] = 6\n"
     ]
    }
   ],
   "source": [
    "# Deal with age: scale age to [1,6]\n",
    "for idx in df[\"age\"].index:\n",
    "    if (df['age'][idx] >= 70 and df['age'][idx] < 80) :\n",
    "        df['age'][idx] = 5\n",
    "    elif(df['age'][idx] >= 80 and df['age'][idx] < 90):\n",
    "        df['age'][idx] = 6\n",
    "    elif(df['age'][idx] >= 60 and df['age'][idx] < 70):\n",
    "        df['age'][idx] = 4\n",
    "    elif(df['age'][idx] >= 50 and df['age'][idx] < 60):\n",
    "        df['age'][idx] = 3\n",
    "    elif(df['age'][idx] >= 40 and df['age'][idx] < 50):\n",
    "        df['age'][idx] = 2\n",
    "    elif(df['age'][idx] >= 30 and df['age'][idx] < 40):\n",
    "        df['age'][idx] = 1\n",
    "    else:\n",
    "        df['age'][idx] = 0"
   ]
  },
  {
   "cell_type": "code",
   "execution_count": 435,
   "metadata": {},
   "outputs": [
    {
     "data": {
      "text/plain": [
       "4    2127\n",
       "5    1729\n",
       "3    1520\n",
       "2     256\n",
       "6     142\n",
       "1     101\n",
       "Name: age, dtype: int64"
      ]
     },
     "execution_count": 435,
     "metadata": {},
     "output_type": "execute_result"
    }
   ],
   "source": [
    "df[\"age\"].value_counts()"
   ]
  },
  {
   "cell_type": "code",
   "execution_count": 436,
   "metadata": {},
   "outputs": [
    {
     "data": {
      "text/plain": [
       "0       5\n",
       "1       5\n",
       "2       5\n",
       "3       5\n",
       "4       5\n",
       "       ..\n",
       "5870    4\n",
       "5871    4\n",
       "5872    4\n",
       "5873    4\n",
       "5874    4\n",
       "Name: age, Length: 5875, dtype: int64"
      ]
     },
     "execution_count": 436,
     "metadata": {},
     "output_type": "execute_result"
    }
   ],
   "source": [
    "df[\"age\"]"
   ]
  },
  {
   "cell_type": "code",
   "execution_count": 437,
   "metadata": {},
   "outputs": [],
   "source": [
    "## convert float data to int\n",
    "df['total_UPDRS'] = df['total_UPDRS'].astype('int64')"
   ]
  },
  {
   "cell_type": "code",
   "execution_count": 438,
   "metadata": {},
   "outputs": [
    {
     "data": {
      "text/plain": [
       "0       34\n",
       "1       34\n",
       "2       35\n",
       "3       35\n",
       "4       36\n",
       "        ..\n",
       "5870    33\n",
       "5871    32\n",
       "5872    32\n",
       "5873    32\n",
       "5874    31\n",
       "Name: total_UPDRS, Length: 5875, dtype: int64"
      ]
     },
     "execution_count": 438,
     "metadata": {},
     "output_type": "execute_result"
    }
   ],
   "source": [
    "df['total_UPDRS']"
   ]
  },
  {
   "cell_type": "code",
   "execution_count": 452,
   "metadata": {},
   "outputs": [
    {
     "name": "stderr",
     "output_type": "stream",
     "text": [
      "<ipython-input-452-7ab7819f5aa8>:9: SettingWithCopyWarning: \n",
      "A value is trying to be set on a copy of a slice from a DataFrame\n",
      "\n",
      "See the caveats in the documentation: https://pandas.pydata.org/pandas-docs/stable/user_guide/indexing.html#returning-a-view-versus-a-copy\n",
      "  df['total_UPDRS'][idx] = 3\n",
      "<ipython-input-452-7ab7819f5aa8>:7: SettingWithCopyWarning: \n",
      "A value is trying to be set on a copy of a slice from a DataFrame\n",
      "\n",
      "See the caveats in the documentation: https://pandas.pydata.org/pandas-docs/stable/user_guide/indexing.html#returning-a-view-versus-a-copy\n",
      "  df['total_UPDRS'][idx] = 4\n",
      "<ipython-input-452-7ab7819f5aa8>:13: SettingWithCopyWarning: \n",
      "A value is trying to be set on a copy of a slice from a DataFrame\n",
      "\n",
      "See the caveats in the documentation: https://pandas.pydata.org/pandas-docs/stable/user_guide/indexing.html#returning-a-view-versus-a-copy\n",
      "  df['total_UPDRS'][idx] = 1\n",
      "<ipython-input-452-7ab7819f5aa8>:11: SettingWithCopyWarning: \n",
      "A value is trying to be set on a copy of a slice from a DataFrame\n",
      "\n",
      "See the caveats in the documentation: https://pandas.pydata.org/pandas-docs/stable/user_guide/indexing.html#returning-a-view-versus-a-copy\n",
      "  df['total_UPDRS'][idx] = 2\n",
      "<ipython-input-452-7ab7819f5aa8>:15: SettingWithCopyWarning: \n",
      "A value is trying to be set on a copy of a slice from a DataFrame\n",
      "\n",
      "See the caveats in the documentation: https://pandas.pydata.org/pandas-docs/stable/user_guide/indexing.html#returning-a-view-versus-a-copy\n",
      "  df['total_UPDRS'][idx] = 0\n",
      "<ipython-input-452-7ab7819f5aa8>:5: SettingWithCopyWarning: \n",
      "A value is trying to be set on a copy of a slice from a DataFrame\n",
      "\n",
      "See the caveats in the documentation: https://pandas.pydata.org/pandas-docs/stable/user_guide/indexing.html#returning-a-view-versus-a-copy\n",
      "  df['total_UPDRS'][idx] = 5\n"
     ]
    }
   ],
   "source": [
    "# Deal with total_UPDRS: scale score to\n",
    "for idx in df[\"total_UPDRS\"].index:\n",
    "\n",
    "    if (df['total_UPDRS'][idx] >= 50 and df['total_UPDRS'][idx] < 60) :\n",
    "        df['total_UPDRS'][idx] = 5\n",
    "    elif (df['total_UPDRS'][idx] >=40 and df['total_UPDRS'][idx] < 50) :\n",
    "        df['total_UPDRS'][idx] = 4\n",
    "    elif (df['total_UPDRS'][idx] >= 30 and df['total_UPDRS'][idx] < 40) :\n",
    "        df['total_UPDRS'][idx] = 3\n",
    "    elif (df['total_UPDRS'][idx] >= 20 and df['total_UPDRS'][idx] < 30) :\n",
    "        df['total_UPDRS'][idx] = 2\n",
    "    elif (df['total_UPDRS'][idx] >= 10 and df['total_UPDRS'][idx] < 20) :\n",
    "        df['total_UPDRS'][idx] = 1\n",
    "    elif (df['total_UPDRS'][idx] >= 0 and df['total_UPDRS'][idx] < 10) :\n",
    "        df['total_UPDRS'][idx] = 0\n",
    "    else:\n",
    "        df['total_UPDRS'][idx] = 0"
   ]
  },
  {
   "cell_type": "code",
   "execution_count": 453,
   "metadata": {},
   "outputs": [
    {
     "data": {
      "text/plain": [
       "2    2065\n",
       "3    1528\n",
       "1    1085\n",
       "4     793\n",
       "5     213\n",
       "0     191\n",
       "Name: total_UPDRS, dtype: int64"
      ]
     },
     "execution_count": 453,
     "metadata": {},
     "output_type": "execute_result"
    }
   ],
   "source": [
    "df[\"total_UPDRS\"].value_counts()"
   ]
  },
  {
   "cell_type": "code",
   "execution_count": 454,
   "metadata": {},
   "outputs": [
    {
     "data": {
      "text/plain": [
       "0       3\n",
       "1       3\n",
       "2       3\n",
       "3       3\n",
       "4       3\n",
       "       ..\n",
       "5870    3\n",
       "5871    3\n",
       "5872    3\n",
       "5873    3\n",
       "5874    3\n",
       "Name: total_UPDRS, Length: 5875, dtype: int64"
      ]
     },
     "execution_count": 454,
     "metadata": {},
     "output_type": "execute_result"
    }
   ],
   "source": [
    "df[\"total_UPDRS\"]"
   ]
  },
  {
   "cell_type": "code",
   "execution_count": 455,
   "metadata": {},
   "outputs": [
    {
     "data": {
      "text/plain": [
       "subject#           int64\n",
       "age                int64\n",
       "sex                int64\n",
       "motor_UPDRS      float64\n",
       "total_UPDRS        int64\n",
       "Jitter(%)        float64\n",
       "Jitter(Abs)      float64\n",
       "Jitter:RAP       float64\n",
       "Jitter:PPQ5      float64\n",
       "Jitter:DDP       float64\n",
       "Shimmer          float64\n",
       "Shimmer(dB)      float64\n",
       "Shimmer:APQ3     float64\n",
       "Shimmer:APQ5     float64\n",
       "Shimmer:APQ11    float64\n",
       "Shimmer:DDA      float64\n",
       "NHR              float64\n",
       "HNR              float64\n",
       "RPDE             float64\n",
       "DFA              float64\n",
       "PPE              float64\n",
       "dtype: object"
      ]
     },
     "execution_count": 455,
     "metadata": {},
     "output_type": "execute_result"
    }
   ],
   "source": [
    "df.dtypes"
   ]
  },
  {
   "cell_type": "markdown",
   "metadata": {},
   "source": [
    "# data visualization"
   ]
  },
  {
   "cell_type": "code",
   "execution_count": 456,
   "metadata": {},
   "outputs": [
    {
     "name": "stderr",
     "output_type": "stream",
     "text": [
      "C:\\Users\\My laptop\\anaconda3\\lib\\site-packages\\seaborn\\_decorators.py:36: FutureWarning: Pass the following variable as a keyword arg: x. From version 0.12, the only valid positional argument will be `data`, and passing other arguments without an explicit keyword will result in an error or misinterpretation.\n",
      "  warnings.warn(\n"
     ]
    },
    {
     "data": {
      "text/plain": [
       "Text(0.5, 1.0, 'Distrinution of total_UPDRS')"
      ]
     },
     "execution_count": 456,
     "metadata": {},
     "output_type": "execute_result"
    },
    {
     "data": {
      "image/png": "[encoded data removed]",
      "text/plain": [
       "<Figure size 432x288 with 1 Axes>"
      ]
     },
     "metadata": {
      "needs_background": "light"
     },
     "output_type": "display_data"
    }
   ],
   "source": [
    "#Distribution of score\n",
    "sns.countplot(df['total_UPDRS']).set_title('Distrinution of total_UPDRS')"
   ]
  },
  {
   "cell_type": "code",
   "execution_count": 457,
   "metadata": {},
   "outputs": [
    {
     "data": {
      "image/png": "[encoded data removed]",
      "text/plain": [
       "<Figure size 1080x1080 with 20 Axes>"
      ]
     },
     "metadata": {
      "needs_background": "light"
     },
     "output_type": "display_data"
    }
   ],
   "source": [
    "\n",
    "fig,axes=plt.subplots(4,5,figsize=(15,15))\n",
    "axes=axes.flatten()\n",
    "\n",
    "for i in range(1,len(df.columns)-1):\n",
    "    sns.boxplot(x='total_UPDRS',y=df.iloc[:,i],data=df,orient='v',ax=axes[i])\n",
    "plt.tight_layout()\n",
    "plt.show()"
   ]
  },
  {
   "cell_type": "code",
   "execution_count": 469,
   "metadata": {},
   "outputs": [
    {
     "data": {
      "text/plain": [
       "Text(0.5, 1.0, 'HNR VS. total_UPDRS')"
      ]
     },
     "execution_count": 469,
     "metadata": {},
     "output_type": "execute_result"
    },
    {
     "data": {
      "image/png": "[encoded data removed]",
      "text/plain": [
       "<Figure size 936x504 with 1 Axes>"
      ]
     },
     "metadata": {},
     "output_type": "display_data"
    }
   ],
   "source": [
    "fig = plt.figure(figsize=(13,7),)\n",
    "ax=sns.kdeplot(df.loc[(df['total_UPDRS'] == 1),'HNR'] , shade=True,label='Not Readmitted')\n",
    "ax=sns.kdeplot(df.loc[(df['total_UPDRS'] == 4),'HNR'] , shade=True, label='Readmitted')\n",
    "# ax=sns.kdeplot(df.loc[(df['total_UPDRS'] == 3),'HNR'] , shade=True, label='Readmitted')\n",
    "# ax=sns.kdeplot(df.loc[(df['total_UPDRS'] == 4),'HNR'] , shade=True, label='Readmitted')\n",
    "# ax=sns.kdeplot(df.loc[(df['total_UPDRS'] == 5),'HNR'] , shade=True, label='Readmitted')\n",
    "# ax=sns.kdeplot(df.loc[(df['total_UPDRS'] == 6),'HNR'] , shade=True, label='Readmitted')\n",
    "ax.set(xlabel='HNR', ylabel='Frequency')\n",
    "plt.title('HNR VS. total_UPDRS')"
   ]
  },
  {
   "cell_type": "markdown",
   "metadata": {},
   "source": [
    "#### Age and total_UPDRS"
   ]
  },
  {
   "cell_type": "code",
   "execution_count": 468,
   "metadata": {},
   "outputs": [
    {
     "data": {
      "text/plain": [
       "Text(0.5, 1.0, 'Age of Patient VS. total_UPDRS')"
      ]
     },
     "execution_count": 468,
     "metadata": {},
     "output_type": "execute_result"
    },
    {
     "data": {
      "image/png": "[encoded data removed]",
      "text/plain": [
       "<Figure size 1080x720 with 1 Axes>"
      ]
     },
     "metadata": {},
     "output_type": "display_data"
    }
   ],
   "source": [
    "fig = plt.figure(figsize=(15,10))\n",
    "sns.countplot(y= df['age'], hue = df['total_UPDRS']).set_title('Age of Patient VS. total_UPDRS')\n",
    "# sns.set(font_scale=1.2)"
   ]
  },
  {
   "cell_type": "markdown",
   "metadata": {},
   "source": [
    "#### Gender and total_UPDRS"
   ]
  },
  {
   "cell_type": "code",
   "execution_count": 470,
   "metadata": {},
   "outputs": [
    {
     "name": "stderr",
     "output_type": "stream",
     "text": [
      "C:\\Users\\My laptop\\anaconda3\\lib\\site-packages\\seaborn\\_decorators.py:36: FutureWarning: Pass the following variable as a keyword arg: x. From version 0.12, the only valid positional argument will be `data`, and passing other arguments without an explicit keyword will result in an error or misinterpretation.\n",
      "  warnings.warn(\n"
     ]
    },
    {
     "data": {
      "text/plain": [
       "Text(0.5, 1.0, 'Gender of Patient VS. total_UPDRS')"
      ]
     },
     "execution_count": 470,
     "metadata": {},
     "output_type": "execute_result"
    },
    {
     "data": {
      "image/png": "[encoded data removed]",
      "text/plain": [
       "<Figure size 576x576 with 1 Axes>"
      ]
     },
     "metadata": {},
     "output_type": "display_data"
    }
   ],
   "source": [
    "fig = plt.figure(figsize=(8,8))\n",
    "sns.countplot(df['sex'], hue = df['total_UPDRS']).set_title(\"Gender of Patient VS. total_UPDRS\")"
   ]
  },
  {
   "cell_type": "markdown",
   "metadata": {},
   "source": [
    "#### PPE and total_UPDRS"
   ]
  },
  {
   "cell_type": "code",
   "execution_count": 119,
   "metadata": {},
   "outputs": [
    {
     "data": {
      "text/plain": [
       "Text(0.5, 1.0, 'PPE and total_UPDRS')"
      ]
     },
     "execution_count": 119,
     "metadata": {},
     "output_type": "execute_result"
    },
    {
     "data": {
      "image/png": "[encoded data removed]",
      "text/plain": [
       "<Figure size 1080x432 with 1 Axes>"
      ]
     },
     "metadata": {
      "needs_background": "light"
     },
     "output_type": "display_data"
    }
   ],
   "source": [
    "fig = plt.figure(figsize=(15,6),)\n",
    "ax=sns.kdeplot(df.loc[(df['total_UPDRS'] == 1),'PPE'] , color='b',shade=True,label='Not readmitted')\n",
    "ax=sns.kdeplot(df.loc[(df['total_UPDRS'] == 4),'PPE'] , color='r',shade=True, label='readmitted')\n",
    "ax.set(xlabel='PPE', ylabel='Frequency')\n",
    "plt.title('PPE and total_UPDRS')"
   ]
  },
  {
   "cell_type": "markdown",
   "metadata": {},
   "source": [
    "# Pre-Modeling Data Preprocessing"
   ]
  },
  {
   "cell_type": "code",
   "execution_count": 443,
   "metadata": {},
   "outputs": [
    {
     "data": {
      "text/plain": [
       "4    2127\n",
       "5    1729\n",
       "3    1520\n",
       "2     256\n",
       "6     142\n",
       "1     101\n",
       "Name: age, dtype: int64"
      ]
     },
     "execution_count": 443,
     "metadata": {},
     "output_type": "execute_result"
    }
   ],
   "source": [
    "df.age.value_counts()"
   ]
  },
  {
   "cell_type": "code",
   "execution_count": 447,
   "metadata": {},
   "outputs": [
    {
     "data": {
      "text/plain": [
       "(5875, 21)"
      ]
     },
     "execution_count": 447,
     "metadata": {},
     "output_type": "execute_result"
    }
   ],
   "source": [
    "df.shape"
   ]
  },
  {
   "cell_type": "code",
   "execution_count": 448,
   "metadata": {},
   "outputs": [
    {
     "ename": "TypeError",
     "evalue": "'range' object is not callable",
     "output_type": "error",
     "traceback": [
      "\u001b[1;31m---------------------------------------------------------------------------\u001b[0m",
      "\u001b[1;31mTypeError\u001b[0m                                 Traceback (most recent call last)",
      "\u001b[1;32m<ipython-input-448-78e7d767039e>\u001b[0m in \u001b[0;36m<module>\u001b[1;34m\u001b[0m\n\u001b[1;32m----> 1\u001b[1;33m \u001b[0mnumerics\u001b[0m \u001b[1;33m=\u001b[0m \u001b[0mlist\u001b[0m\u001b[1;33m(\u001b[0m\u001b[0mset\u001b[0m\u001b[1;33m(\u001b[0m\u001b[0mlist\u001b[0m\u001b[1;33m(\u001b[0m\u001b[0mdf\u001b[0m\u001b[1;33m.\u001b[0m\u001b[0m_get_numeric_data\u001b[0m\u001b[1;33m(\u001b[0m\u001b[1;33m)\u001b[0m\u001b[1;33m.\u001b[0m\u001b[0mcolumns\u001b[0m\u001b[1;33m)\u001b[0m\u001b[1;33m)\u001b[0m\u001b[1;33m-\u001b[0m \u001b[1;33m{\u001b[0m\u001b[1;34m'total_UPDRS'\u001b[0m\u001b[1;33m}\u001b[0m\u001b[1;33m)\u001b[0m\u001b[1;33m\u001b[0m\u001b[1;33m\u001b[0m\u001b[0m\n\u001b[0m\u001b[0;32m      2\u001b[0m \u001b[0mnumerics\u001b[0m\u001b[1;33m\u001b[0m\u001b[1;33m\u001b[0m\u001b[0m\n",
      "\u001b[1;31mTypeError\u001b[0m: 'range' object is not callable"
     ]
    }
   ],
   "source": [
    "numerics = list(set(list(df._get_numeric_data().columns))- {'total_UPDRS'})\n",
    "numerics"
   ]
  },
  {
   "cell_type": "code",
   "execution_count": 446,
   "metadata": {},
   "outputs": [],
   "source": [
    "# Feature Scaling\n",
    "datf = pd.DataFrame()\n",
    "datf['features'] = numerics\n",
    "datf['std_dev'] = datf['features'].apply(lambda x: df[x].std())\n",
    "datf['mean'] = datf['features'].apply(lambda x: df[x].mean())"
   ]
  },
  {
   "cell_type": "code",
   "execution_count": 187,
   "metadata": {},
   "outputs": [
    {
     "data": {
      "text/plain": [
       "(42, 21)"
      ]
     },
     "execution_count": 187,
     "metadata": {},
     "output_type": "execute_result"
    }
   ],
   "source": [
    "df2 = df.drop_duplicates(subset= ['subject#'], keep = 'first')\n",
    "df2.shape"
   ]
  },
  {
   "cell_type": "code",
   "execution_count": 188,
   "metadata": {},
   "outputs": [],
   "source": [
    "# standardize function\n",
    "def standardize(raw_data):\n",
    "    return ((raw_data - np.mean(raw_data, axis = 0)) / np.std(raw_data, axis = 0))"
   ]
  },
  {
   "cell_type": "code",
   "execution_count": 189,
   "metadata": {},
   "outputs": [
    {
     "name": "stderr",
     "output_type": "stream",
     "text": [
      "C:\\Users\\My laptop\\anaconda3\\lib\\site-packages\\pandas\\core\\frame.py:3065: SettingWithCopyWarning: \n",
      "A value is trying to be set on a copy of a slice from a DataFrame.\n",
      "Try using .loc[row_indexer,col_indexer] = value instead\n",
      "\n",
      "See the caveats in the documentation: https://pandas.pydata.org/pandas-docs/stable/user_guide/indexing.html#returning-a-view-versus-a-copy\n",
      "  self[k1] = value[k2]\n"
     ]
    }
   ],
   "source": [
    "df2[numerics] = standardize(df2[numerics])\n",
    "import scipy as sp\n",
    "df2 = df2[(np.abs(sp.stats.zscore(df2[numerics])) < 3).all(axis=1)]"
   ]
  },
  {
   "cell_type": "code",
   "execution_count": 190,
   "metadata": {},
   "outputs": [],
   "source": [
    "df2[numerics] = standardize(df2[numerics])\n",
    "import scipy as sp\n",
    "df2 = df2[(np.abs(sp.stats.zscore(df2[numerics])) < 3).all(axis=1)]"
   ]
  },
  {
   "cell_type": "code",
   "execution_count": 191,
   "metadata": {},
   "outputs": [
    {
     "data": {
      "text/html": [
       "<style  type=\"text/css\" >\n",
       "#T_1ba6f9d1_662f_11eb_95ae_38378bf523e9row0_col0,#T_1ba6f9d1_662f_11eb_95ae_38378bf523e9row1_col1,#T_1ba6f9d1_662f_11eb_95ae_38378bf523e9row2_col2,#T_1ba6f9d1_662f_11eb_95ae_38378bf523e9row3_col3,#T_1ba6f9d1_662f_11eb_95ae_38378bf523e9row4_col4,#T_1ba6f9d1_662f_11eb_95ae_38378bf523e9row4_col6,#T_1ba6f9d1_662f_11eb_95ae_38378bf523e9row4_col8,#T_1ba6f9d1_662f_11eb_95ae_38378bf523e9row5_col5,#T_1ba6f9d1_662f_11eb_95ae_38378bf523e9row6_col4,#T_1ba6f9d1_662f_11eb_95ae_38378bf523e9row6_col6,#T_1ba6f9d1_662f_11eb_95ae_38378bf523e9row6_col8,#T_1ba6f9d1_662f_11eb_95ae_38378bf523e9row7_col7,#T_1ba6f9d1_662f_11eb_95ae_38378bf523e9row8_col4,#T_1ba6f9d1_662f_11eb_95ae_38378bf523e9row8_col6,#T_1ba6f9d1_662f_11eb_95ae_38378bf523e9row8_col8,#T_1ba6f9d1_662f_11eb_95ae_38378bf523e9row9_col9,#T_1ba6f9d1_662f_11eb_95ae_38378bf523e9row9_col10,#T_1ba6f9d1_662f_11eb_95ae_38378bf523e9row9_col11,#T_1ba6f9d1_662f_11eb_95ae_38378bf523e9row9_col14,#T_1ba6f9d1_662f_11eb_95ae_38378bf523e9row10_col9,#T_1ba6f9d1_662f_11eb_95ae_38378bf523e9row10_col10,#T_1ba6f9d1_662f_11eb_95ae_38378bf523e9row11_col9,#T_1ba6f9d1_662f_11eb_95ae_38378bf523e9row11_col11,#T_1ba6f9d1_662f_11eb_95ae_38378bf523e9row11_col14,#T_1ba6f9d1_662f_11eb_95ae_38378bf523e9row12_col12,#T_1ba6f9d1_662f_11eb_95ae_38378bf523e9row13_col13,#T_1ba6f9d1_662f_11eb_95ae_38378bf523e9row14_col9,#T_1ba6f9d1_662f_11eb_95ae_38378bf523e9row14_col11,#T_1ba6f9d1_662f_11eb_95ae_38378bf523e9row14_col14,#T_1ba6f9d1_662f_11eb_95ae_38378bf523e9row15_col15,#T_1ba6f9d1_662f_11eb_95ae_38378bf523e9row16_col16,#T_1ba6f9d1_662f_11eb_95ae_38378bf523e9row17_col17,#T_1ba6f9d1_662f_11eb_95ae_38378bf523e9row18_col18,#T_1ba6f9d1_662f_11eb_95ae_38378bf523e9row19_col19{\n",
       "            background-color:  #007ad1;\n",
       "            color:  #f1f1f1;\n",
       "        }#T_1ba6f9d1_662f_11eb_95ae_38378bf523e9row0_col1,#T_1ba6f9d1_662f_11eb_95ae_38378bf523e9row5_col0,#T_1ba6f9d1_662f_11eb_95ae_38378bf523e9row9_col1,#T_1ba6f9d1_662f_11eb_95ae_38378bf523e9row15_col18,#T_1ba6f9d1_662f_11eb_95ae_38378bf523e9row18_col3{\n",
       "            background-color:  #b5d4ea;\n",
       "            color:  #000000;\n",
       "        }#T_1ba6f9d1_662f_11eb_95ae_38378bf523e9row0_col2,#T_1ba6f9d1_662f_11eb_95ae_38378bf523e9row5_col2,#T_1ba6f9d1_662f_11eb_95ae_38378bf523e9row7_col2,#T_1ba6f9d1_662f_11eb_95ae_38378bf523e9row10_col3,#T_1ba6f9d1_662f_11eb_95ae_38378bf523e9row10_col18,#T_1ba6f9d1_662f_11eb_95ae_38378bf523e9row13_col3{\n",
       "            background-color:  #97c5e6;\n",
       "            color:  #000000;\n",
       "        }#T_1ba6f9d1_662f_11eb_95ae_38378bf523e9row0_col3,#T_1ba6f9d1_662f_11eb_95ae_38378bf523e9row0_col4,#T_1ba6f9d1_662f_11eb_95ae_38378bf523e9row1_col16,#T_1ba6f9d1_662f_11eb_95ae_38378bf523e9row2_col17,#T_1ba6f9d1_662f_11eb_95ae_38378bf523e9row3_col10,#T_1ba6f9d1_662f_11eb_95ae_38378bf523e9row3_col12,#T_1ba6f9d1_662f_11eb_95ae_38378bf523e9row3_col17,#T_1ba6f9d1_662f_11eb_95ae_38378bf523e9row19_col0{\n",
       "            background-color:  #7fb9e3;\n",
       "            color:  #000000;\n",
       "        }#T_1ba6f9d1_662f_11eb_95ae_38378bf523e9row0_col5,#T_1ba6f9d1_662f_11eb_95ae_38378bf523e9row1_col4,#T_1ba6f9d1_662f_11eb_95ae_38378bf523e9row1_col9,#T_1ba6f9d1_662f_11eb_95ae_38378bf523e9row1_col15,#T_1ba6f9d1_662f_11eb_95ae_38378bf523e9row2_col0,#T_1ba6f9d1_662f_11eb_95ae_38378bf523e9row6_col2,#T_1ba6f9d1_662f_11eb_95ae_38378bf523e9row6_col3,#T_1ba6f9d1_662f_11eb_95ae_38378bf523e9row6_col18,#T_1ba6f9d1_662f_11eb_95ae_38378bf523e9row7_col0,#T_1ba6f9d1_662f_11eb_95ae_38378bf523e9row8_col2,#T_1ba6f9d1_662f_11eb_95ae_38378bf523e9row8_col3,#T_1ba6f9d1_662f_11eb_95ae_38378bf523e9row8_col18,#T_1ba6f9d1_662f_11eb_95ae_38378bf523e9row9_col3,#T_1ba6f9d1_662f_11eb_95ae_38378bf523e9row9_col18,#T_1ba6f9d1_662f_11eb_95ae_38378bf523e9row11_col3,#T_1ba6f9d1_662f_11eb_95ae_38378bf523e9row14_col3,#T_1ba6f9d1_662f_11eb_95ae_38378bf523e9row17_col0{\n",
       "            background-color:  #93c2e6;\n",
       "            color:  #000000;\n",
       "        }#T_1ba6f9d1_662f_11eb_95ae_38378bf523e9row0_col6,#T_1ba6f9d1_662f_11eb_95ae_38378bf523e9row0_col8,#T_1ba6f9d1_662f_11eb_95ae_38378bf523e9row1_col6,#T_1ba6f9d1_662f_11eb_95ae_38378bf523e9row1_col7,#T_1ba6f9d1_662f_11eb_95ae_38378bf523e9row1_col8,#T_1ba6f9d1_662f_11eb_95ae_38378bf523e9row2_col10,#T_1ba6f9d1_662f_11eb_95ae_38378bf523e9row2_col13,#T_1ba6f9d1_662f_11eb_95ae_38378bf523e9row7_col18,#T_1ba6f9d1_662f_11eb_95ae_38378bf523e9row19_col2{\n",
       "            background-color:  #85bbe4;\n",
       "            color:  #000000;\n",
       "        }#T_1ba6f9d1_662f_11eb_95ae_38378bf523e9row0_col7,#T_1ba6f9d1_662f_11eb_95ae_38378bf523e9row2_col7,#T_1ba6f9d1_662f_11eb_95ae_38378bf523e9row18_col6,#T_1ba6f9d1_662f_11eb_95ae_38378bf523e9row18_col8,#T_1ba6f9d1_662f_11eb_95ae_38378bf523e9row18_col9{\n",
       "            background-color:  #71b2e1;\n",
       "            color:  #000000;\n",
       "        }#T_1ba6f9d1_662f_11eb_95ae_38378bf523e9row0_col9,#T_1ba6f9d1_662f_11eb_95ae_38378bf523e9row0_col10,#T_1ba6f9d1_662f_11eb_95ae_38378bf523e9row0_col11,#T_1ba6f9d1_662f_11eb_95ae_38378bf523e9row0_col14,#T_1ba6f9d1_662f_11eb_95ae_38378bf523e9row0_col19,#T_1ba6f9d1_662f_11eb_95ae_38378bf523e9row2_col19,#T_1ba6f9d1_662f_11eb_95ae_38378bf523e9row3_col15,#T_1ba6f9d1_662f_11eb_95ae_38378bf523e9row13_col0,#T_1ba6f9d1_662f_11eb_95ae_38378bf523e9row18_col4,#T_1ba6f9d1_662f_11eb_95ae_38378bf523e9row18_col12{\n",
       "            background-color:  #66addf;\n",
       "            color:  #000000;\n",
       "        }#T_1ba6f9d1_662f_11eb_95ae_38378bf523e9row0_col12,#T_1ba6f9d1_662f_11eb_95ae_38378bf523e9row0_col13,#T_1ba6f9d1_662f_11eb_95ae_38378bf523e9row4_col17,#T_1ba6f9d1_662f_11eb_95ae_38378bf523e9row7_col17,#T_1ba6f9d1_662f_11eb_95ae_38378bf523e9row11_col17,#T_1ba6f9d1_662f_11eb_95ae_38378bf523e9row12_col17,#T_1ba6f9d1_662f_11eb_95ae_38378bf523e9row14_col17,#T_1ba6f9d1_662f_11eb_95ae_38378bf523e9row17_col10,#T_1ba6f9d1_662f_11eb_95ae_38378bf523e9row17_col11,#T_1ba6f9d1_662f_11eb_95ae_38378bf523e9row17_col14,#T_1ba6f9d1_662f_11eb_95ae_38378bf523e9row18_col5,#T_1ba6f9d1_662f_11eb_95ae_38378bf523e9row19_col11,#T_1ba6f9d1_662f_11eb_95ae_38378bf523e9row19_col14{\n",
       "            background-color:  #58a6dd;\n",
       "            color:  #000000;\n",
       "        }#T_1ba6f9d1_662f_11eb_95ae_38378bf523e9row0_col15,#T_1ba6f9d1_662f_11eb_95ae_38378bf523e9row2_col4,#T_1ba6f9d1_662f_11eb_95ae_38378bf523e9row3_col4,#T_1ba6f9d1_662f_11eb_95ae_38378bf523e9row3_col5,#T_1ba6f9d1_662f_11eb_95ae_38378bf523e9row3_col7,#T_1ba6f9d1_662f_11eb_95ae_38378bf523e9row12_col0,#T_1ba6f9d1_662f_11eb_95ae_38378bf523e9row18_col13,#T_1ba6f9d1_662f_11eb_95ae_38378bf523e9row19_col18{\n",
       "            background-color:  #6bafe0;\n",
       "            color:  #000000;\n",
       "        }#T_1ba6f9d1_662f_11eb_95ae_38378bf523e9row0_col16,#T_1ba6f9d1_662f_11eb_95ae_38378bf523e9row1_col0,#T_1ba6f9d1_662f_11eb_95ae_38378bf523e9row11_col1,#T_1ba6f9d1_662f_11eb_95ae_38378bf523e9row12_col1,#T_1ba6f9d1_662f_11eb_95ae_38378bf523e9row14_col1,#T_1ba6f9d1_662f_11eb_95ae_38378bf523e9row16_col1,#T_1ba6f9d1_662f_11eb_95ae_38378bf523e9row17_col18{\n",
       "            background-color:  #b1d1ea;\n",
       "            color:  #000000;\n",
       "        }#T_1ba6f9d1_662f_11eb_95ae_38378bf523e9row0_col17,#T_1ba6f9d1_662f_11eb_95ae_38378bf523e9row2_col9,#T_1ba6f9d1_662f_11eb_95ae_38378bf523e9row2_col11,#T_1ba6f9d1_662f_11eb_95ae_38378bf523e9row2_col14,#T_1ba6f9d1_662f_11eb_95ae_38378bf523e9row3_col0,#T_1ba6f9d1_662f_11eb_95ae_38378bf523e9row3_col13,#T_1ba6f9d1_662f_11eb_95ae_38378bf523e9row9_col0,#T_1ba6f9d1_662f_11eb_95ae_38378bf523e9row10_col0,#T_1ba6f9d1_662f_11eb_95ae_38378bf523e9row11_col0,#T_1ba6f9d1_662f_11eb_95ae_38378bf523e9row14_col0,#T_1ba6f9d1_662f_11eb_95ae_38378bf523e9row18_col10,#T_1ba6f9d1_662f_11eb_95ae_38378bf523e9row18_col11,#T_1ba6f9d1_662f_11eb_95ae_38378bf523e9row18_col14,#T_1ba6f9d1_662f_11eb_95ae_38378bf523e9row18_col15{\n",
       "            background-color:  #7ab6e2;\n",
       "            color:  #000000;\n",
       "        }#T_1ba6f9d1_662f_11eb_95ae_38378bf523e9row0_col18,#T_1ba6f9d1_662f_11eb_95ae_38378bf523e9row5_col1,#T_1ba6f9d1_662f_11eb_95ae_38378bf523e9row15_col16,#T_1ba6f9d1_662f_11eb_95ae_38378bf523e9row16_col0,#T_1ba6f9d1_662f_11eb_95ae_38378bf523e9row16_col2,#T_1ba6f9d1_662f_11eb_95ae_38378bf523e9row16_col3,#T_1ba6f9d1_662f_11eb_95ae_38378bf523e9row16_col4,#T_1ba6f9d1_662f_11eb_95ae_38378bf523e9row16_col5,#T_1ba6f9d1_662f_11eb_95ae_38378bf523e9row16_col6,#T_1ba6f9d1_662f_11eb_95ae_38378bf523e9row16_col7,#T_1ba6f9d1_662f_11eb_95ae_38378bf523e9row16_col8,#T_1ba6f9d1_662f_11eb_95ae_38378bf523e9row16_col9,#T_1ba6f9d1_662f_11eb_95ae_38378bf523e9row16_col10,#T_1ba6f9d1_662f_11eb_95ae_38378bf523e9row16_col11,#T_1ba6f9d1_662f_11eb_95ae_38378bf523e9row16_col12,#T_1ba6f9d1_662f_11eb_95ae_38378bf523e9row16_col13,#T_1ba6f9d1_662f_11eb_95ae_38378bf523e9row16_col14,#T_1ba6f9d1_662f_11eb_95ae_38378bf523e9row16_col15,#T_1ba6f9d1_662f_11eb_95ae_38378bf523e9row16_col17,#T_1ba6f9d1_662f_11eb_95ae_38378bf523e9row16_col19{\n",
       "            background-color:  #f0f1f3;\n",
       "            color:  #000000;\n",
       "        }#T_1ba6f9d1_662f_11eb_95ae_38378bf523e9row1_col2,#T_1ba6f9d1_662f_11eb_95ae_38378bf523e9row6_col16,#T_1ba6f9d1_662f_11eb_95ae_38378bf523e9row8_col16,#T_1ba6f9d1_662f_11eb_95ae_38378bf523e9row9_col16,#T_1ba6f9d1_662f_11eb_95ae_38378bf523e9row11_col16,#T_1ba6f9d1_662f_11eb_95ae_38378bf523e9row12_col16,#T_1ba6f9d1_662f_11eb_95ae_38378bf523e9row13_col16,#T_1ba6f9d1_662f_11eb_95ae_38378bf523e9row14_col16,#T_1ba6f9d1_662f_11eb_95ae_38378bf523e9row17_col16{\n",
       "            background-color:  #d7e5ef;\n",
       "            color:  #000000;\n",
       "        }#T_1ba6f9d1_662f_11eb_95ae_38378bf523e9row1_col3,#T_1ba6f9d1_662f_11eb_95ae_38378bf523e9row3_col1,#T_1ba6f9d1_662f_11eb_95ae_38378bf523e9row15_col1,#T_1ba6f9d1_662f_11eb_95ae_38378bf523e9row18_col2{\n",
       "            background-color:  #cee0ee;\n",
       "            color:  #000000;\n",
       "        }#T_1ba6f9d1_662f_11eb_95ae_38378bf523e9row1_col5,#T_1ba6f9d1_662f_11eb_95ae_38378bf523e9row10_col1{\n",
       "            background-color:  #bfd8ec;\n",
       "            color:  #000000;\n",
       "        }#T_1ba6f9d1_662f_11eb_95ae_38378bf523e9row1_col10,#T_1ba6f9d1_662f_11eb_95ae_38378bf523e9row1_col13,#T_1ba6f9d1_662f_11eb_95ae_38378bf523e9row1_col19,#T_1ba6f9d1_662f_11eb_95ae_38378bf523e9row9_col2,#T_1ba6f9d1_662f_11eb_95ae_38378bf523e9row11_col2,#T_1ba6f9d1_662f_11eb_95ae_38378bf523e9row11_col18,#T_1ba6f9d1_662f_11eb_95ae_38378bf523e9row12_col3,#T_1ba6f9d1_662f_11eb_95ae_38378bf523e9row14_col2,#T_1ba6f9d1_662f_11eb_95ae_38378bf523e9row14_col18,#T_1ba6f9d1_662f_11eb_95ae_38378bf523e9row18_col16{\n",
       "            background-color:  #9dc8e7;\n",
       "            color:  #000000;\n",
       "        }#T_1ba6f9d1_662f_11eb_95ae_38378bf523e9row1_col11,#T_1ba6f9d1_662f_11eb_95ae_38378bf523e9row1_col12,#T_1ba6f9d1_662f_11eb_95ae_38378bf523e9row1_col14,#T_1ba6f9d1_662f_11eb_95ae_38378bf523e9row4_col2,#T_1ba6f9d1_662f_11eb_95ae_38378bf523e9row7_col3,#T_1ba6f9d1_662f_11eb_95ae_38378bf523e9row15_col0,#T_1ba6f9d1_662f_11eb_95ae_38378bf523e9row15_col3{\n",
       "            background-color:  #8ec0e5;\n",
       "            color:  #000000;\n",
       "        }#T_1ba6f9d1_662f_11eb_95ae_38378bf523e9row1_col17,#T_1ba6f9d1_662f_11eb_95ae_38378bf523e9row2_col16,#T_1ba6f9d1_662f_11eb_95ae_38378bf523e9row3_col16,#T_1ba6f9d1_662f_11eb_95ae_38378bf523e9row7_col1,#T_1ba6f9d1_662f_11eb_95ae_38378bf523e9row12_col2{\n",
       "            background-color:  #abcfe9;\n",
       "            color:  #000000;\n",
       "        }#T_1ba6f9d1_662f_11eb_95ae_38378bf523e9row1_col18,#T_1ba6f9d1_662f_11eb_95ae_38378bf523e9row13_col1,#T_1ba6f9d1_662f_11eb_95ae_38378bf523e9row19_col1{\n",
       "            background-color:  #c4dbec;\n",
       "            color:  #000000;\n",
       "        }#T_1ba6f9d1_662f_11eb_95ae_38378bf523e9row2_col1,#T_1ba6f9d1_662f_11eb_95ae_38378bf523e9row2_col18,#T_1ba6f9d1_662f_11eb_95ae_38378bf523e9row10_col16,#T_1ba6f9d1_662f_11eb_95ae_38378bf523e9row17_col1{\n",
       "            background-color:  #d3e2ef;\n",
       "            color:  #000000;\n",
       "        }#T_1ba6f9d1_662f_11eb_95ae_38378bf523e9row2_col3,#T_1ba6f9d1_662f_11eb_95ae_38378bf523e9row3_col2,#T_1ba6f9d1_662f_11eb_95ae_38378bf523e9row4_col5,#T_1ba6f9d1_662f_11eb_95ae_38378bf523e9row5_col4,#T_1ba6f9d1_662f_11eb_95ae_38378bf523e9row12_col13,#T_1ba6f9d1_662f_11eb_95ae_38378bf523e9row13_col12{\n",
       "            background-color:  #0e81d3;\n",
       "            color:  #000000;\n",
       "        }#T_1ba6f9d1_662f_11eb_95ae_38378bf523e9row2_col5,#T_1ba6f9d1_662f_11eb_95ae_38378bf523e9row2_col6,#T_1ba6f9d1_662f_11eb_95ae_38378bf523e9row2_col8,#T_1ba6f9d1_662f_11eb_95ae_38378bf523e9row3_col6,#T_1ba6f9d1_662f_11eb_95ae_38378bf523e9row3_col8,#T_1ba6f9d1_662f_11eb_95ae_38378bf523e9row3_col9,#T_1ba6f9d1_662f_11eb_95ae_38378bf523e9row3_col11,#T_1ba6f9d1_662f_11eb_95ae_38378bf523e9row3_col14,#T_1ba6f9d1_662f_11eb_95ae_38378bf523e9row5_col18,#T_1ba6f9d1_662f_11eb_95ae_38378bf523e9row19_col3{\n",
       "            background-color:  #75b4e1;\n",
       "            color:  #000000;\n",
       "        }#T_1ba6f9d1_662f_11eb_95ae_38378bf523e9row2_col12,#T_1ba6f9d1_662f_11eb_95ae_38378bf523e9row4_col3,#T_1ba6f9d1_662f_11eb_95ae_38378bf523e9row4_col18,#T_1ba6f9d1_662f_11eb_95ae_38378bf523e9row5_col3,#T_1ba6f9d1_662f_11eb_95ae_38378bf523e9row12_col18,#T_1ba6f9d1_662f_11eb_95ae_38378bf523e9row13_col18,#T_1ba6f9d1_662f_11eb_95ae_38378bf523e9row15_col2,#T_1ba6f9d1_662f_11eb_95ae_38378bf523e9row18_col17{\n",
       "            background-color:  #89bee4;\n",
       "            color:  #000000;\n",
       "        }#T_1ba6f9d1_662f_11eb_95ae_38378bf523e9row2_col15,#T_1ba6f9d1_662f_11eb_95ae_38378bf523e9row6_col17,#T_1ba6f9d1_662f_11eb_95ae_38378bf523e9row8_col17,#T_1ba6f9d1_662f_11eb_95ae_38378bf523e9row17_col6,#T_1ba6f9d1_662f_11eb_95ae_38378bf523e9row17_col8,#T_1ba6f9d1_662f_11eb_95ae_38378bf523e9row18_col7{\n",
       "            background-color:  #62aadf;\n",
       "            color:  #000000;\n",
       "        }#T_1ba6f9d1_662f_11eb_95ae_38378bf523e9row3_col18,#T_1ba6f9d1_662f_11eb_95ae_38378bf523e9row4_col1,#T_1ba6f9d1_662f_11eb_95ae_38378bf523e9row18_col1{\n",
       "            background-color:  #bad6eb;\n",
       "            color:  #000000;\n",
       "        }#T_1ba6f9d1_662f_11eb_95ae_38378bf523e9row3_col19,#T_1ba6f9d1_662f_11eb_95ae_38378bf523e9row6_col13,#T_1ba6f9d1_662f_11eb_95ae_38378bf523e9row8_col13,#T_1ba6f9d1_662f_11eb_95ae_38378bf523e9row13_col6,#T_1ba6f9d1_662f_11eb_95ae_38378bf523e9row13_col8{\n",
       "            background-color:  #5da8de;\n",
       "            color:  #000000;\n",
       "        }#T_1ba6f9d1_662f_11eb_95ae_38378bf523e9row4_col0,#T_1ba6f9d1_662f_11eb_95ae_38378bf523e9row6_col0,#T_1ba6f9d1_662f_11eb_95ae_38378bf523e9row8_col0,#T_1ba6f9d1_662f_11eb_95ae_38378bf523e9row10_col2,#T_1ba6f9d1_662f_11eb_95ae_38378bf523e9row17_col2,#T_1ba6f9d1_662f_11eb_95ae_38378bf523e9row17_col3{\n",
       "            background-color:  #a2cae8;\n",
       "            color:  #000000;\n",
       "        }#T_1ba6f9d1_662f_11eb_95ae_38378bf523e9row4_col7,#T_1ba6f9d1_662f_11eb_95ae_38378bf523e9row6_col7,#T_1ba6f9d1_662f_11eb_95ae_38378bf523e9row7_col4,#T_1ba6f9d1_662f_11eb_95ae_38378bf523e9row7_col6,#T_1ba6f9d1_662f_11eb_95ae_38378bf523e9row7_col8,#T_1ba6f9d1_662f_11eb_95ae_38378bf523e9row8_col7,#T_1ba6f9d1_662f_11eb_95ae_38378bf523e9row9_col12,#T_1ba6f9d1_662f_11eb_95ae_38378bf523e9row10_col11,#T_1ba6f9d1_662f_11eb_95ae_38378bf523e9row10_col12,#T_1ba6f9d1_662f_11eb_95ae_38378bf523e9row10_col14,#T_1ba6f9d1_662f_11eb_95ae_38378bf523e9row11_col10,#T_1ba6f9d1_662f_11eb_95ae_38378bf523e9row12_col9,#T_1ba6f9d1_662f_11eb_95ae_38378bf523e9row12_col10,#T_1ba6f9d1_662f_11eb_95ae_38378bf523e9row14_col10{\n",
       "            background-color:  #057cd1;\n",
       "            color:  #f1f1f1;\n",
       "        }#T_1ba6f9d1_662f_11eb_95ae_38378bf523e9row4_col9,#T_1ba6f9d1_662f_11eb_95ae_38378bf523e9row4_col11,#T_1ba6f9d1_662f_11eb_95ae_38378bf523e9row4_col14,#T_1ba6f9d1_662f_11eb_95ae_38378bf523e9row6_col9,#T_1ba6f9d1_662f_11eb_95ae_38378bf523e9row6_col11,#T_1ba6f9d1_662f_11eb_95ae_38378bf523e9row6_col14,#T_1ba6f9d1_662f_11eb_95ae_38378bf523e9row8_col9,#T_1ba6f9d1_662f_11eb_95ae_38378bf523e9row8_col11,#T_1ba6f9d1_662f_11eb_95ae_38378bf523e9row8_col14,#T_1ba6f9d1_662f_11eb_95ae_38378bf523e9row9_col4,#T_1ba6f9d1_662f_11eb_95ae_38378bf523e9row9_col6,#T_1ba6f9d1_662f_11eb_95ae_38378bf523e9row9_col8,#T_1ba6f9d1_662f_11eb_95ae_38378bf523e9row10_col4,#T_1ba6f9d1_662f_11eb_95ae_38378bf523e9row11_col4,#T_1ba6f9d1_662f_11eb_95ae_38378bf523e9row11_col6,#T_1ba6f9d1_662f_11eb_95ae_38378bf523e9row11_col8,#T_1ba6f9d1_662f_11eb_95ae_38378bf523e9row12_col15,#T_1ba6f9d1_662f_11eb_95ae_38378bf523e9row13_col19,#T_1ba6f9d1_662f_11eb_95ae_38378bf523e9row14_col4,#T_1ba6f9d1_662f_11eb_95ae_38378bf523e9row14_col6,#T_1ba6f9d1_662f_11eb_95ae_38378bf523e9row14_col8,#T_1ba6f9d1_662f_11eb_95ae_38378bf523e9row17_col15,#T_1ba6f9d1_662f_11eb_95ae_38378bf523e9row19_col13{\n",
       "            background-color:  #3a97d9;\n",
       "            color:  #000000;\n",
       "        }#T_1ba6f9d1_662f_11eb_95ae_38378bf523e9row4_col10,#T_1ba6f9d1_662f_11eb_95ae_38378bf523e9row6_col10,#T_1ba6f9d1_662f_11eb_95ae_38378bf523e9row7_col9,#T_1ba6f9d1_662f_11eb_95ae_38378bf523e9row9_col7,#T_1ba6f9d1_662f_11eb_95ae_38378bf523e9row10_col6,#T_1ba6f9d1_662f_11eb_95ae_38378bf523e9row10_col7,#T_1ba6f9d1_662f_11eb_95ae_38378bf523e9row10_col8,#T_1ba6f9d1_662f_11eb_95ae_38378bf523e9row11_col7,#T_1ba6f9d1_662f_11eb_95ae_38378bf523e9row12_col4,#T_1ba6f9d1_662f_11eb_95ae_38378bf523e9row12_col7,#T_1ba6f9d1_662f_11eb_95ae_38378bf523e9row13_col15,#T_1ba6f9d1_662f_11eb_95ae_38378bf523e9row14_col7,#T_1ba6f9d1_662f_11eb_95ae_38378bf523e9row15_col9,#T_1ba6f9d1_662f_11eb_95ae_38378bf523e9row15_col10,#T_1ba6f9d1_662f_11eb_95ae_38378bf523e9row15_col11,#T_1ba6f9d1_662f_11eb_95ae_38378bf523e9row15_col12,#T_1ba6f9d1_662f_11eb_95ae_38378bf523e9row15_col14,#T_1ba6f9d1_662f_11eb_95ae_38378bf523e9row15_col17,#T_1ba6f9d1_662f_11eb_95ae_38378bf523e9row17_col5{\n",
       "            background-color:  #3f99da;\n",
       "            color:  #000000;\n",
       "        }#T_1ba6f9d1_662f_11eb_95ae_38378bf523e9row4_col12,#T_1ba6f9d1_662f_11eb_95ae_38378bf523e9row5_col17,#T_1ba6f9d1_662f_11eb_95ae_38378bf523e9row6_col12,#T_1ba6f9d1_662f_11eb_95ae_38378bf523e9row7_col10,#T_1ba6f9d1_662f_11eb_95ae_38378bf523e9row7_col11,#T_1ba6f9d1_662f_11eb_95ae_38378bf523e9row7_col12,#T_1ba6f9d1_662f_11eb_95ae_38378bf523e9row7_col14,#T_1ba6f9d1_662f_11eb_95ae_38378bf523e9row8_col10,#T_1ba6f9d1_662f_11eb_95ae_38378bf523e9row8_col12,#T_1ba6f9d1_662f_11eb_95ae_38378bf523e9row12_col6,#T_1ba6f9d1_662f_11eb_95ae_38378bf523e9row12_col8,#T_1ba6f9d1_662f_11eb_95ae_38378bf523e9row12_col19,#T_1ba6f9d1_662f_11eb_95ae_38378bf523e9row15_col13,#T_1ba6f9d1_662f_11eb_95ae_38378bf523e9row19_col12{\n",
       "            background-color:  #459cda;\n",
       "            color:  #000000;\n",
       "        }#T_1ba6f9d1_662f_11eb_95ae_38378bf523e9row4_col13,#T_1ba6f9d1_662f_11eb_95ae_38378bf523e9row5_col12,#T_1ba6f9d1_662f_11eb_95ae_38378bf523e9row5_col13,#T_1ba6f9d1_662f_11eb_95ae_38378bf523e9row10_col17,#T_1ba6f9d1_662f_11eb_95ae_38378bf523e9row11_col19,#T_1ba6f9d1_662f_11eb_95ae_38378bf523e9row13_col5,#T_1ba6f9d1_662f_11eb_95ae_38378bf523e9row14_col19,#T_1ba6f9d1_662f_11eb_95ae_38378bf523e9row17_col4,#T_1ba6f9d1_662f_11eb_95ae_38378bf523e9row17_col7,#T_1ba6f9d1_662f_11eb_95ae_38378bf523e9row17_col12,#T_1ba6f9d1_662f_11eb_95ae_38378bf523e9row18_col19,#T_1ba6f9d1_662f_11eb_95ae_38378bf523e9row19_col17{\n",
       "            background-color:  #53a3dc;\n",
       "            color:  #000000;\n",
       "        }#T_1ba6f9d1_662f_11eb_95ae_38378bf523e9row4_col15,#T_1ba6f9d1_662f_11eb_95ae_38378bf523e9row7_col15,#T_1ba6f9d1_662f_11eb_95ae_38378bf523e9row7_col19,#T_1ba6f9d1_662f_11eb_95ae_38378bf523e9row19_col7{\n",
       "            background-color:  #1d88d5;\n",
       "            color:  #000000;\n",
       "        }#T_1ba6f9d1_662f_11eb_95ae_38378bf523e9row4_col16,#T_1ba6f9d1_662f_11eb_95ae_38378bf523e9row5_col16,#T_1ba6f9d1_662f_11eb_95ae_38378bf523e9row19_col16{\n",
       "            background-color:  #dde7f0;\n",
       "            color:  #000000;\n",
       "        }#T_1ba6f9d1_662f_11eb_95ae_38378bf523e9row4_col19,#T_1ba6f9d1_662f_11eb_95ae_38378bf523e9row5_col15,#T_1ba6f9d1_662f_11eb_95ae_38378bf523e9row6_col15,#T_1ba6f9d1_662f_11eb_95ae_38378bf523e9row8_col15,#T_1ba6f9d1_662f_11eb_95ae_38378bf523e9row11_col13,#T_1ba6f9d1_662f_11eb_95ae_38378bf523e9row13_col11,#T_1ba6f9d1_662f_11eb_95ae_38378bf523e9row13_col14,#T_1ba6f9d1_662f_11eb_95ae_38378bf523e9row14_col13,#T_1ba6f9d1_662f_11eb_95ae_38378bf523e9row15_col4,#T_1ba6f9d1_662f_11eb_95ae_38378bf523e9row15_col7,#T_1ba6f9d1_662f_11eb_95ae_38378bf523e9row19_col4{\n",
       "            background-color:  #228ad6;\n",
       "            color:  #000000;\n",
       "        }#T_1ba6f9d1_662f_11eb_95ae_38378bf523e9row5_col6,#T_1ba6f9d1_662f_11eb_95ae_38378bf523e9row5_col8,#T_1ba6f9d1_662f_11eb_95ae_38378bf523e9row6_col5,#T_1ba6f9d1_662f_11eb_95ae_38378bf523e9row7_col5,#T_1ba6f9d1_662f_11eb_95ae_38378bf523e9row8_col5{\n",
       "            background-color:  #1886d4;\n",
       "            color:  #000000;\n",
       "        }#T_1ba6f9d1_662f_11eb_95ae_38378bf523e9row5_col7,#T_1ba6f9d1_662f_11eb_95ae_38378bf523e9row9_col13,#T_1ba6f9d1_662f_11eb_95ae_38378bf523e9row10_col13,#T_1ba6f9d1_662f_11eb_95ae_38378bf523e9row13_col9,#T_1ba6f9d1_662f_11eb_95ae_38378bf523e9row13_col10{\n",
       "            background-color:  #1383d3;\n",
       "            color:  #000000;\n",
       "        }#T_1ba6f9d1_662f_11eb_95ae_38378bf523e9row5_col9,#T_1ba6f9d1_662f_11eb_95ae_38378bf523e9row9_col5,#T_1ba6f9d1_662f_11eb_95ae_38378bf523e9row9_col19,#T_1ba6f9d1_662f_11eb_95ae_38378bf523e9row10_col5,#T_1ba6f9d1_662f_11eb_95ae_38378bf523e9row10_col19,#T_1ba6f9d1_662f_11eb_95ae_38378bf523e9row11_col5,#T_1ba6f9d1_662f_11eb_95ae_38378bf523e9row13_col7,#T_1ba6f9d1_662f_11eb_95ae_38378bf523e9row13_col17,#T_1ba6f9d1_662f_11eb_95ae_38378bf523e9row14_col5,#T_1ba6f9d1_662f_11eb_95ae_38378bf523e9row17_col13{\n",
       "            background-color:  #499edb;\n",
       "            color:  #000000;\n",
       "        }#T_1ba6f9d1_662f_11eb_95ae_38378bf523e9row5_col10,#T_1ba6f9d1_662f_11eb_95ae_38378bf523e9row5_col11,#T_1ba6f9d1_662f_11eb_95ae_38378bf523e9row5_col14,#T_1ba6f9d1_662f_11eb_95ae_38378bf523e9row7_col13,#T_1ba6f9d1_662f_11eb_95ae_38378bf523e9row9_col17,#T_1ba6f9d1_662f_11eb_95ae_38378bf523e9row12_col5,#T_1ba6f9d1_662f_11eb_95ae_38378bf523e9row13_col4,#T_1ba6f9d1_662f_11eb_95ae_38378bf523e9row17_col9,#T_1ba6f9d1_662f_11eb_95ae_38378bf523e9row17_col19,#T_1ba6f9d1_662f_11eb_95ae_38378bf523e9row19_col9,#T_1ba6f9d1_662f_11eb_95ae_38378bf523e9row19_col10{\n",
       "            background-color:  #4ea0dc;\n",
       "            color:  #000000;\n",
       "        }#T_1ba6f9d1_662f_11eb_95ae_38378bf523e9row5_col19,#T_1ba6f9d1_662f_11eb_95ae_38378bf523e9row15_col5,#T_1ba6f9d1_662f_11eb_95ae_38378bf523e9row15_col6,#T_1ba6f9d1_662f_11eb_95ae_38378bf523e9row15_col8,#T_1ba6f9d1_662f_11eb_95ae_38378bf523e9row19_col5{\n",
       "            background-color:  #278dd6;\n",
       "            color:  #000000;\n",
       "        }#T_1ba6f9d1_662f_11eb_95ae_38378bf523e9row6_col1,#T_1ba6f9d1_662f_11eb_95ae_38378bf523e9row8_col1,#T_1ba6f9d1_662f_11eb_95ae_38378bf523e9row13_col2{\n",
       "            background-color:  #a6cce8;\n",
       "            color:  #000000;\n",
       "        }#T_1ba6f9d1_662f_11eb_95ae_38378bf523e9row6_col19,#T_1ba6f9d1_662f_11eb_95ae_38378bf523e9row8_col19,#T_1ba6f9d1_662f_11eb_95ae_38378bf523e9row19_col15{\n",
       "            background-color:  #3192d8;\n",
       "            color:  #000000;\n",
       "        }#T_1ba6f9d1_662f_11eb_95ae_38378bf523e9row7_col16,#T_1ba6f9d1_662f_11eb_95ae_38378bf523e9row16_col18{\n",
       "            background-color:  #e2eaf1;\n",
       "            color:  #000000;\n",
       "        }#T_1ba6f9d1_662f_11eb_95ae_38378bf523e9row9_col15,#T_1ba6f9d1_662f_11eb_95ae_38378bf523e9row10_col15,#T_1ba6f9d1_662f_11eb_95ae_38378bf523e9row11_col15,#T_1ba6f9d1_662f_11eb_95ae_38378bf523e9row14_col15,#T_1ba6f9d1_662f_11eb_95ae_38378bf523e9row15_col19,#T_1ba6f9d1_662f_11eb_95ae_38378bf523e9row19_col6,#T_1ba6f9d1_662f_11eb_95ae_38378bf523e9row19_col8{\n",
       "            background-color:  #3694d8;\n",
       "            color:  #000000;\n",
       "        }#T_1ba6f9d1_662f_11eb_95ae_38378bf523e9row11_col12,#T_1ba6f9d1_662f_11eb_95ae_38378bf523e9row12_col11,#T_1ba6f9d1_662f_11eb_95ae_38378bf523e9row12_col14,#T_1ba6f9d1_662f_11eb_95ae_38378bf523e9row14_col12{\n",
       "            background-color:  #097ed2;\n",
       "            color:  #f1f1f1;\n",
       "        }#T_1ba6f9d1_662f_11eb_95ae_38378bf523e9row18_col0{\n",
       "            background-color:  #e6ecf1;\n",
       "            color:  #000000;\n",
       "        }</style><table id=\"T_1ba6f9d1_662f_11eb_95ae_38378bf523e9\" ><thead>    <tr>        <th class=\"blank level0\" ></th>        <th class=\"col_heading level0 col0\" >age</th>        <th class=\"col_heading level0 col1\" >sex</th>        <th class=\"col_heading level0 col2\" >motor_UPDRS</th>        <th class=\"col_heading level0 col3\" >total_UPDRS</th>        <th class=\"col_heading level0 col4\" >Jitter(%)</th>        <th class=\"col_heading level0 col5\" >Jitter(Abs)</th>        <th class=\"col_heading level0 col6\" >Jitter:RAP</th>        <th class=\"col_heading level0 col7\" >Jitter:PPQ5</th>        <th class=\"col_heading level0 col8\" >Jitter:DDP</th>        <th class=\"col_heading level0 col9\" >Shimmer</th>        <th class=\"col_heading level0 col10\" >Shimmer(dB)</th>        <th class=\"col_heading level0 col11\" >Shimmer:APQ3</th>        <th class=\"col_heading level0 col12\" >Shimmer:APQ5</th>        <th class=\"col_heading level0 col13\" >Shimmer:APQ11</th>        <th class=\"col_heading level0 col14\" >Shimmer:DDA</th>        <th class=\"col_heading level0 col15\" >NHR</th>        <th class=\"col_heading level0 col16\" >HNR</th>        <th class=\"col_heading level0 col17\" >RPDE</th>        <th class=\"col_heading level0 col18\" >DFA</th>        <th class=\"col_heading level0 col19\" >PPE</th>    </tr></thead><tbody>\n",
       "                <tr>\n",
       "                        <th id=\"T_1ba6f9d1_662f_11eb_95ae_38378bf523e9level0_row0\" class=\"row_heading level0 row0\" >age</th>\n",
       "                        <td id=\"T_1ba6f9d1_662f_11eb_95ae_38378bf523e9row0_col0\" class=\"data row0 col0\" >1.000000</td>\n",
       "                        <td id=\"T_1ba6f9d1_662f_11eb_95ae_38378bf523e9row0_col1\" class=\"data row0 col1\" >0.012784</td>\n",
       "                        <td id=\"T_1ba6f9d1_662f_11eb_95ae_38378bf523e9row0_col2\" class=\"data row0 col2\" >0.192322</td>\n",
       "                        <td id=\"T_1ba6f9d1_662f_11eb_95ae_38378bf523e9row0_col3\" class=\"data row0 col3\" >0.310931</td>\n",
       "                        <td id=\"T_1ba6f9d1_662f_11eb_95ae_38378bf523e9row0_col4\" class=\"data row0 col4\" >0.117079</td>\n",
       "                        <td id=\"T_1ba6f9d1_662f_11eb_95ae_38378bf523e9row0_col5\" class=\"data row0 col5\" >-0.007542</td>\n",
       "                        <td id=\"T_1ba6f9d1_662f_11eb_95ae_38378bf523e9row0_col6\" class=\"data row0 col6\" >0.098575</td>\n",
       "                        <td id=\"T_1ba6f9d1_662f_11eb_95ae_38378bf523e9row0_col7\" class=\"data row0 col7\" >0.192374</td>\n",
       "                        <td id=\"T_1ba6f9d1_662f_11eb_95ae_38378bf523e9row0_col8\" class=\"data row0 col8\" >0.098594</td>\n",
       "                        <td id=\"T_1ba6f9d1_662f_11eb_95ae_38378bf523e9row0_col9\" class=\"data row0 col9\" >0.318970</td>\n",
       "                        <td id=\"T_1ba6f9d1_662f_11eb_95ae_38378bf523e9row0_col10\" class=\"data row0 col10\" >0.330644</td>\n",
       "                        <td id=\"T_1ba6f9d1_662f_11eb_95ae_38378bf523e9row0_col11\" class=\"data row0 col11\" >0.309114</td>\n",
       "                        <td id=\"T_1ba6f9d1_662f_11eb_95ae_38378bf523e9row0_col12\" class=\"data row0 col12\" >0.396690</td>\n",
       "                        <td id=\"T_1ba6f9d1_662f_11eb_95ae_38378bf523e9row0_col13\" class=\"data row0 col13\" >0.414197</td>\n",
       "                        <td id=\"T_1ba6f9d1_662f_11eb_95ae_38378bf523e9row0_col14\" class=\"data row0 col14\" >0.309178</td>\n",
       "                        <td id=\"T_1ba6f9d1_662f_11eb_95ae_38378bf523e9row0_col15\" class=\"data row0 col15\" >0.199088</td>\n",
       "                        <td id=\"T_1ba6f9d1_662f_11eb_95ae_38378bf523e9row0_col16\" class=\"data row0 col16\" >-0.337733</td>\n",
       "                        <td id=\"T_1ba6f9d1_662f_11eb_95ae_38378bf523e9row0_col17\" class=\"data row0 col17\" >0.177245</td>\n",
       "                        <td id=\"T_1ba6f9d1_662f_11eb_95ae_38378bf523e9row0_col18\" class=\"data row0 col18\" >-0.258228</td>\n",
       "                        <td id=\"T_1ba6f9d1_662f_11eb_95ae_38378bf523e9row0_col19\" class=\"data row0 col19\" >0.289597</td>\n",
       "            </tr>\n",
       "            <tr>\n",
       "                        <th id=\"T_1ba6f9d1_662f_11eb_95ae_38378bf523e9level0_row1\" class=\"row_heading level0 row1\" >sex</th>\n",
       "                        <td id=\"T_1ba6f9d1_662f_11eb_95ae_38378bf523e9row1_col0\" class=\"data row1 col0\" >0.012784</td>\n",
       "                        <td id=\"T_1ba6f9d1_662f_11eb_95ae_38378bf523e9row1_col1\" class=\"data row1 col1\" >1.000000</td>\n",
       "                        <td id=\"T_1ba6f9d1_662f_11eb_95ae_38378bf523e9row1_col2\" class=\"data row1 col2\" >-0.146570</td>\n",
       "                        <td id=\"T_1ba6f9d1_662f_11eb_95ae_38378bf523e9row1_col3\" class=\"data row1 col3\" >-0.109840</td>\n",
       "                        <td id=\"T_1ba6f9d1_662f_11eb_95ae_38378bf523e9row1_col4\" class=\"data row1 col4\" >-0.005865</td>\n",
       "                        <td id=\"T_1ba6f9d1_662f_11eb_95ae_38378bf523e9row1_col5\" class=\"data row1 col5\" >-0.314455</td>\n",
       "                        <td id=\"T_1ba6f9d1_662f_11eb_95ae_38378bf523e9row1_col6\" class=\"data row1 col6\" >0.089707</td>\n",
       "                        <td id=\"T_1ba6f9d1_662f_11eb_95ae_38378bf523e9row1_col7\" class=\"data row1 col7\" >0.054280</td>\n",
       "                        <td id=\"T_1ba6f9d1_662f_11eb_95ae_38378bf523e9row1_col8\" class=\"data row1 col8\" >0.090003</td>\n",
       "                        <td id=\"T_1ba6f9d1_662f_11eb_95ae_38378bf523e9row1_col9\" class=\"data row1 col9\" >0.010504</td>\n",
       "                        <td id=\"T_1ba6f9d1_662f_11eb_95ae_38378bf523e9row1_col10\" class=\"data row1 col10\" >-0.028309</td>\n",
       "                        <td id=\"T_1ba6f9d1_662f_11eb_95ae_38378bf523e9row1_col11\" class=\"data row1 col11\" >0.039533</td>\n",
       "                        <td id=\"T_1ba6f9d1_662f_11eb_95ae_38378bf523e9row1_col12\" class=\"data row1 col12\" >0.051327</td>\n",
       "                        <td id=\"T_1ba6f9d1_662f_11eb_95ae_38378bf523e9row1_col13\" class=\"data row1 col13\" >-0.063010</td>\n",
       "                        <td id=\"T_1ba6f9d1_662f_11eb_95ae_38378bf523e9row1_col14\" class=\"data row1 col14\" >0.039634</td>\n",
       "                        <td id=\"T_1ba6f9d1_662f_11eb_95ae_38378bf523e9row1_col15\" class=\"data row1 col15\" >-0.111490</td>\n",
       "                        <td id=\"T_1ba6f9d1_662f_11eb_95ae_38378bf523e9row1_col16\" class=\"data row1 col16\" >0.032340</td>\n",
       "                        <td id=\"T_1ba6f9d1_662f_11eb_95ae_38378bf523e9row1_col17\" class=\"data row1 col17\" >-0.149839</td>\n",
       "                        <td id=\"T_1ba6f9d1_662f_11eb_95ae_38378bf523e9row1_col18\" class=\"data row1 col18\" >-0.023563</td>\n",
       "                        <td id=\"T_1ba6f9d1_662f_11eb_95ae_38378bf523e9row1_col19\" class=\"data row1 col19\" >-0.072043</td>\n",
       "            </tr>\n",
       "            <tr>\n",
       "                        <th id=\"T_1ba6f9d1_662f_11eb_95ae_38378bf523e9level0_row2\" class=\"row_heading level0 row2\" >motor_UPDRS</th>\n",
       "                        <td id=\"T_1ba6f9d1_662f_11eb_95ae_38378bf523e9row2_col0\" class=\"data row2 col0\" >0.192322</td>\n",
       "                        <td id=\"T_1ba6f9d1_662f_11eb_95ae_38378bf523e9row2_col1\" class=\"data row2 col1\" >-0.146570</td>\n",
       "                        <td id=\"T_1ba6f9d1_662f_11eb_95ae_38378bf523e9row2_col2\" class=\"data row2 col2\" >1.000000</td>\n",
       "                        <td id=\"T_1ba6f9d1_662f_11eb_95ae_38378bf523e9row2_col3\" class=\"data row2 col3\" >0.921043</td>\n",
       "                        <td id=\"T_1ba6f9d1_662f_11eb_95ae_38378bf523e9row2_col4\" class=\"data row2 col4\" >0.244852</td>\n",
       "                        <td id=\"T_1ba6f9d1_662f_11eb_95ae_38378bf523e9row2_col5\" class=\"data row2 col5\" >0.193243</td>\n",
       "                        <td id=\"T_1ba6f9d1_662f_11eb_95ae_38378bf523e9row2_col6\" class=\"data row2 col6\" >0.206119</td>\n",
       "                        <td id=\"T_1ba6f9d1_662f_11eb_95ae_38378bf523e9row2_col7\" class=\"data row2 col7\" >0.195952</td>\n",
       "                        <td id=\"T_1ba6f9d1_662f_11eb_95ae_38378bf523e9row2_col8\" class=\"data row2 col8\" >0.206292</td>\n",
       "                        <td id=\"T_1ba6f9d1_662f_11eb_95ae_38378bf523e9row2_col9\" class=\"data row2 col9\" >0.161508</td>\n",
       "                        <td id=\"T_1ba6f9d1_662f_11eb_95ae_38378bf523e9row2_col10\" class=\"data row2 col10\" >0.132193</td>\n",
       "                        <td id=\"T_1ba6f9d1_662f_11eb_95ae_38378bf523e9row2_col11\" class=\"data row2 col11\" >0.167279</td>\n",
       "                        <td id=\"T_1ba6f9d1_662f_11eb_95ae_38378bf523e9row2_col12\" class=\"data row2 col12\" >0.081448</td>\n",
       "                        <td id=\"T_1ba6f9d1_662f_11eb_95ae_38378bf523e9row2_col13\" class=\"data row2 col13\" >0.099589</td>\n",
       "                        <td id=\"T_1ba6f9d1_662f_11eb_95ae_38378bf523e9row2_col14\" class=\"data row2 col14\" >0.167219</td>\n",
       "                        <td id=\"T_1ba6f9d1_662f_11eb_95ae_38378bf523e9row2_col15\" class=\"data row2 col15\" >0.271818</td>\n",
       "                        <td id=\"T_1ba6f9d1_662f_11eb_95ae_38378bf523e9row2_col16\" class=\"data row2 col16\" >-0.292676</td>\n",
       "                        <td id=\"T_1ba6f9d1_662f_11eb_95ae_38378bf523e9row2_col17\" class=\"data row2 col17\" >0.124979</td>\n",
       "                        <td id=\"T_1ba6f9d1_662f_11eb_95ae_38378bf523e9row2_col18\" class=\"data row2 col18\" >-0.101352</td>\n",
       "                        <td id=\"T_1ba6f9d1_662f_11eb_95ae_38378bf523e9row2_col19\" class=\"data row2 col19\" >0.288393</td>\n",
       "            </tr>\n",
       "            <tr>\n",
       "                        <th id=\"T_1ba6f9d1_662f_11eb_95ae_38378bf523e9level0_row3\" class=\"row_heading level0 row3\" >total_UPDRS</th>\n",
       "                        <td id=\"T_1ba6f9d1_662f_11eb_95ae_38378bf523e9row3_col0\" class=\"data row3 col0\" >0.310931</td>\n",
       "                        <td id=\"T_1ba6f9d1_662f_11eb_95ae_38378bf523e9row3_col1\" class=\"data row3 col1\" >-0.109840</td>\n",
       "                        <td id=\"T_1ba6f9d1_662f_11eb_95ae_38378bf523e9row3_col2\" class=\"data row3 col2\" >0.921043</td>\n",
       "                        <td id=\"T_1ba6f9d1_662f_11eb_95ae_38378bf523e9row3_col3\" class=\"data row3 col3\" >1.000000</td>\n",
       "                        <td id=\"T_1ba6f9d1_662f_11eb_95ae_38378bf523e9row3_col4\" class=\"data row3 col4\" >0.259394</td>\n",
       "                        <td id=\"T_1ba6f9d1_662f_11eb_95ae_38378bf523e9row3_col5\" class=\"data row3 col5\" >0.263027</td>\n",
       "                        <td id=\"T_1ba6f9d1_662f_11eb_95ae_38378bf523e9row3_col6\" class=\"data row3 col6\" >0.212770</td>\n",
       "                        <td id=\"T_1ba6f9d1_662f_11eb_95ae_38378bf523e9row3_col7\" class=\"data row3 col7\" >0.233475</td>\n",
       "                        <td id=\"T_1ba6f9d1_662f_11eb_95ae_38378bf523e9row3_col8\" class=\"data row3 col8\" >0.212796</td>\n",
       "                        <td id=\"T_1ba6f9d1_662f_11eb_95ae_38378bf523e9row3_col9\" class=\"data row3 col9\" >0.201562</td>\n",
       "                        <td id=\"T_1ba6f9d1_662f_11eb_95ae_38378bf523e9row3_col10\" class=\"data row3 col10\" >0.170776</td>\n",
       "                        <td id=\"T_1ba6f9d1_662f_11eb_95ae_38378bf523e9row3_col11\" class=\"data row3 col11\" >0.201930</td>\n",
       "                        <td id=\"T_1ba6f9d1_662f_11eb_95ae_38378bf523e9row3_col12\" class=\"data row3 col12\" >0.148233</td>\n",
       "                        <td id=\"T_1ba6f9d1_662f_11eb_95ae_38378bf523e9row3_col13\" class=\"data row3 col13\" >0.176471</td>\n",
       "                        <td id=\"T_1ba6f9d1_662f_11eb_95ae_38378bf523e9row3_col14\" class=\"data row3 col14\" >0.201889</td>\n",
       "                        <td id=\"T_1ba6f9d1_662f_11eb_95ae_38378bf523e9row3_col15\" class=\"data row3 col15\" >0.231888</td>\n",
       "                        <td id=\"T_1ba6f9d1_662f_11eb_95ae_38378bf523e9row3_col16\" class=\"data row3 col16\" >-0.299075</td>\n",
       "                        <td id=\"T_1ba6f9d1_662f_11eb_95ae_38378bf523e9row3_col17\" class=\"data row3 col17\" >0.125236</td>\n",
       "                        <td id=\"T_1ba6f9d1_662f_11eb_95ae_38378bf523e9row3_col18\" class=\"data row3 col18\" >0.022828</td>\n",
       "                        <td id=\"T_1ba6f9d1_662f_11eb_95ae_38378bf523e9row3_col19\" class=\"data row3 col19\" >0.360428</td>\n",
       "            </tr>\n",
       "            <tr>\n",
       "                        <th id=\"T_1ba6f9d1_662f_11eb_95ae_38378bf523e9level0_row4\" class=\"row_heading level0 row4\" >Jitter(%)</th>\n",
       "                        <td id=\"T_1ba6f9d1_662f_11eb_95ae_38378bf523e9row4_col0\" class=\"data row4 col0\" >0.117079</td>\n",
       "                        <td id=\"T_1ba6f9d1_662f_11eb_95ae_38378bf523e9row4_col1\" class=\"data row4 col1\" >-0.005865</td>\n",
       "                        <td id=\"T_1ba6f9d1_662f_11eb_95ae_38378bf523e9row4_col2\" class=\"data row4 col2\" >0.244852</td>\n",
       "                        <td id=\"T_1ba6f9d1_662f_11eb_95ae_38378bf523e9row4_col3\" class=\"data row4 col3\" >0.259394</td>\n",
       "                        <td id=\"T_1ba6f9d1_662f_11eb_95ae_38378bf523e9row4_col4\" class=\"data row4 col4\" >1.000000</td>\n",
       "                        <td id=\"T_1ba6f9d1_662f_11eb_95ae_38378bf523e9row4_col5\" class=\"data row4 col5\" >0.873681</td>\n",
       "                        <td id=\"T_1ba6f9d1_662f_11eb_95ae_38378bf523e9row4_col6\" class=\"data row4 col6\" >0.978974</td>\n",
       "                        <td id=\"T_1ba6f9d1_662f_11eb_95ae_38378bf523e9row4_col7\" class=\"data row4 col7\" >0.963244</td>\n",
       "                        <td id=\"T_1ba6f9d1_662f_11eb_95ae_38378bf523e9row4_col8\" class=\"data row4 col8\" >0.978946</td>\n",
       "                        <td id=\"T_1ba6f9d1_662f_11eb_95ae_38378bf523e9row4_col9\" class=\"data row4 col9\" >0.592623</td>\n",
       "                        <td id=\"T_1ba6f9d1_662f_11eb_95ae_38378bf523e9row4_col10\" class=\"data row4 col10\" >0.577236</td>\n",
       "                        <td id=\"T_1ba6f9d1_662f_11eb_95ae_38378bf523e9row4_col11\" class=\"data row4 col11\" >0.592258</td>\n",
       "                        <td id=\"T_1ba6f9d1_662f_11eb_95ae_38378bf523e9row4_col12\" class=\"data row4 col12\" >0.535830</td>\n",
       "                        <td id=\"T_1ba6f9d1_662f_11eb_95ae_38378bf523e9row4_col13\" class=\"data row4 col13\" >0.444508</td>\n",
       "                        <td id=\"T_1ba6f9d1_662f_11eb_95ae_38378bf523e9row4_col14\" class=\"data row4 col14\" >0.592194</td>\n",
       "                        <td id=\"T_1ba6f9d1_662f_11eb_95ae_38378bf523e9row4_col15\" class=\"data row4 col15\" >0.749969</td>\n",
       "                        <td id=\"T_1ba6f9d1_662f_11eb_95ae_38378bf523e9row4_col16\" class=\"data row4 col16\" >-0.662716</td>\n",
       "                        <td id=\"T_1ba6f9d1_662f_11eb_95ae_38378bf523e9row4_col17\" class=\"data row4 col17\" >0.410161</td>\n",
       "                        <td id=\"T_1ba6f9d1_662f_11eb_95ae_38378bf523e9row4_col18\" class=\"data row4 col18\" >0.274883</td>\n",
       "                        <td id=\"T_1ba6f9d1_662f_11eb_95ae_38378bf523e9row4_col19\" class=\"data row4 col19\" >0.737780</td>\n",
       "            </tr>\n",
       "            <tr>\n",
       "                        <th id=\"T_1ba6f9d1_662f_11eb_95ae_38378bf523e9level0_row5\" class=\"row_heading level0 row5\" >Jitter(Abs)</th>\n",
       "                        <td id=\"T_1ba6f9d1_662f_11eb_95ae_38378bf523e9row5_col0\" class=\"data row5 col0\" >-0.007542</td>\n",
       "                        <td id=\"T_1ba6f9d1_662f_11eb_95ae_38378bf523e9row5_col1\" class=\"data row5 col1\" >-0.314455</td>\n",
       "                        <td id=\"T_1ba6f9d1_662f_11eb_95ae_38378bf523e9row5_col2\" class=\"data row5 col2\" >0.193243</td>\n",
       "                        <td id=\"T_1ba6f9d1_662f_11eb_95ae_38378bf523e9row5_col3\" class=\"data row5 col3\" >0.263027</td>\n",
       "                        <td id=\"T_1ba6f9d1_662f_11eb_95ae_38378bf523e9row5_col4\" class=\"data row5 col4\" >0.873681</td>\n",
       "                        <td id=\"T_1ba6f9d1_662f_11eb_95ae_38378bf523e9row5_col5\" class=\"data row5 col5\" >1.000000</td>\n",
       "                        <td id=\"T_1ba6f9d1_662f_11eb_95ae_38378bf523e9row5_col6\" class=\"data row5 col6\" >0.806715</td>\n",
       "                        <td id=\"T_1ba6f9d1_662f_11eb_95ae_38378bf523e9row5_col7\" class=\"data row5 col7\" >0.833478</td>\n",
       "                        <td id=\"T_1ba6f9d1_662f_11eb_95ae_38378bf523e9row5_col8\" class=\"data row5 col8\" >0.806419</td>\n",
       "                        <td id=\"T_1ba6f9d1_662f_11eb_95ae_38378bf523e9row5_col9\" class=\"data row5 col9\" >0.497709</td>\n",
       "                        <td id=\"T_1ba6f9d1_662f_11eb_95ae_38378bf523e9row5_col10\" class=\"data row5 col10\" >0.484553</td>\n",
       "                        <td id=\"T_1ba6f9d1_662f_11eb_95ae_38378bf523e9row5_col11\" class=\"data row5 col11\" >0.473510</td>\n",
       "                        <td id=\"T_1ba6f9d1_662f_11eb_95ae_38378bf523e9row5_col12\" class=\"data row5 col12\" >0.445970</td>\n",
       "                        <td id=\"T_1ba6f9d1_662f_11eb_95ae_38378bf523e9row5_col13\" class=\"data row5 col13\" >0.424985</td>\n",
       "                        <td id=\"T_1ba6f9d1_662f_11eb_95ae_38378bf523e9row5_col14\" class=\"data row5 col14\" >0.473411</td>\n",
       "                        <td id=\"T_1ba6f9d1_662f_11eb_95ae_38378bf523e9row5_col15\" class=\"data row5 col15\" >0.709241</td>\n",
       "                        <td id=\"T_1ba6f9d1_662f_11eb_95ae_38378bf523e9row5_col16\" class=\"data row5 col16\" >-0.652313</td>\n",
       "                        <td id=\"T_1ba6f9d1_662f_11eb_95ae_38378bf523e9row5_col17\" class=\"data row5 col17\" >0.543210</td>\n",
       "                        <td id=\"T_1ba6f9d1_662f_11eb_95ae_38378bf523e9row5_col18\" class=\"data row5 col18\" >0.388935</td>\n",
       "                        <td id=\"T_1ba6f9d1_662f_11eb_95ae_38378bf523e9row5_col19\" class=\"data row5 col19\" >0.713964</td>\n",
       "            </tr>\n",
       "            <tr>\n",
       "                        <th id=\"T_1ba6f9d1_662f_11eb_95ae_38378bf523e9level0_row6\" class=\"row_heading level0 row6\" >Jitter:RAP</th>\n",
       "                        <td id=\"T_1ba6f9d1_662f_11eb_95ae_38378bf523e9row6_col0\" class=\"data row6 col0\" >0.098575</td>\n",
       "                        <td id=\"T_1ba6f9d1_662f_11eb_95ae_38378bf523e9row6_col1\" class=\"data row6 col1\" >0.089707</td>\n",
       "                        <td id=\"T_1ba6f9d1_662f_11eb_95ae_38378bf523e9row6_col2\" class=\"data row6 col2\" >0.206119</td>\n",
       "                        <td id=\"T_1ba6f9d1_662f_11eb_95ae_38378bf523e9row6_col3\" class=\"data row6 col3\" >0.212770</td>\n",
       "                        <td id=\"T_1ba6f9d1_662f_11eb_95ae_38378bf523e9row6_col4\" class=\"data row6 col4\" >0.978974</td>\n",
       "                        <td id=\"T_1ba6f9d1_662f_11eb_95ae_38378bf523e9row6_col5\" class=\"data row6 col5\" >0.806715</td>\n",
       "                        <td id=\"T_1ba6f9d1_662f_11eb_95ae_38378bf523e9row6_col6\" class=\"data row6 col6\" >1.000000</td>\n",
       "                        <td id=\"T_1ba6f9d1_662f_11eb_95ae_38378bf523e9row6_col7\" class=\"data row6 col7\" >0.946395</td>\n",
       "                        <td id=\"T_1ba6f9d1_662f_11eb_95ae_38378bf523e9row6_col8\" class=\"data row6 col8\" >0.999998</td>\n",
       "                        <td id=\"T_1ba6f9d1_662f_11eb_95ae_38378bf523e9row6_col9\" class=\"data row6 col9\" >0.582579</td>\n",
       "                        <td id=\"T_1ba6f9d1_662f_11eb_95ae_38378bf523e9row6_col10\" class=\"data row6 col10\" >0.555971</td>\n",
       "                        <td id=\"T_1ba6f9d1_662f_11eb_95ae_38378bf523e9row6_col11\" class=\"data row6 col11\" >0.606698</td>\n",
       "                        <td id=\"T_1ba6f9d1_662f_11eb_95ae_38378bf523e9row6_col12\" class=\"data row6 col12\" >0.516954</td>\n",
       "                        <td id=\"T_1ba6f9d1_662f_11eb_95ae_38378bf523e9row6_col13\" class=\"data row6 col13\" >0.372886</td>\n",
       "                        <td id=\"T_1ba6f9d1_662f_11eb_95ae_38378bf523e9row6_col14\" class=\"data row6 col14\" >0.606645</td>\n",
       "                        <td id=\"T_1ba6f9d1_662f_11eb_95ae_38378bf523e9row6_col15\" class=\"data row6 col15\" >0.717208</td>\n",
       "                        <td id=\"T_1ba6f9d1_662f_11eb_95ae_38378bf523e9row6_col16\" class=\"data row6 col16\" >-0.626593</td>\n",
       "                        <td id=\"T_1ba6f9d1_662f_11eb_95ae_38378bf523e9row6_col17\" class=\"data row6 col17\" >0.343402</td>\n",
       "                        <td id=\"T_1ba6f9d1_662f_11eb_95ae_38378bf523e9row6_col18\" class=\"data row6 col18\" >0.223537</td>\n",
       "                        <td id=\"T_1ba6f9d1_662f_11eb_95ae_38378bf523e9row6_col19\" class=\"data row6 col19\" >0.641435</td>\n",
       "            </tr>\n",
       "            <tr>\n",
       "                        <th id=\"T_1ba6f9d1_662f_11eb_95ae_38378bf523e9level0_row7\" class=\"row_heading level0 row7\" >Jitter:PPQ5</th>\n",
       "                        <td id=\"T_1ba6f9d1_662f_11eb_95ae_38378bf523e9row7_col0\" class=\"data row7 col0\" >0.192374</td>\n",
       "                        <td id=\"T_1ba6f9d1_662f_11eb_95ae_38378bf523e9row7_col1\" class=\"data row7 col1\" >0.054280</td>\n",
       "                        <td id=\"T_1ba6f9d1_662f_11eb_95ae_38378bf523e9row7_col2\" class=\"data row7 col2\" >0.195952</td>\n",
       "                        <td id=\"T_1ba6f9d1_662f_11eb_95ae_38378bf523e9row7_col3\" class=\"data row7 col3\" >0.233475</td>\n",
       "                        <td id=\"T_1ba6f9d1_662f_11eb_95ae_38378bf523e9row7_col4\" class=\"data row7 col4\" >0.963244</td>\n",
       "                        <td id=\"T_1ba6f9d1_662f_11eb_95ae_38378bf523e9row7_col5\" class=\"data row7 col5\" >0.833478</td>\n",
       "                        <td id=\"T_1ba6f9d1_662f_11eb_95ae_38378bf523e9row7_col6\" class=\"data row7 col6\" >0.946395</td>\n",
       "                        <td id=\"T_1ba6f9d1_662f_11eb_95ae_38378bf523e9row7_col7\" class=\"data row7 col7\" >1.000000</td>\n",
       "                        <td id=\"T_1ba6f9d1_662f_11eb_95ae_38378bf523e9row7_col8\" class=\"data row7 col8\" >0.946346</td>\n",
       "                        <td id=\"T_1ba6f9d1_662f_11eb_95ae_38378bf523e9row7_col9\" class=\"data row7 col9\" >0.551171</td>\n",
       "                        <td id=\"T_1ba6f9d1_662f_11eb_95ae_38378bf523e9row7_col10\" class=\"data row7 col10\" >0.532243</td>\n",
       "                        <td id=\"T_1ba6f9d1_662f_11eb_95ae_38378bf523e9row7_col11\" class=\"data row7 col11\" >0.544765</td>\n",
       "                        <td id=\"T_1ba6f9d1_662f_11eb_95ae_38378bf523e9row7_col12\" class=\"data row7 col12\" >0.535794</td>\n",
       "                        <td id=\"T_1ba6f9d1_662f_11eb_95ae_38378bf523e9row7_col13\" class=\"data row7 col13\" >0.464210</td>\n",
       "                        <td id=\"T_1ba6f9d1_662f_11eb_95ae_38378bf523e9row7_col14\" class=\"data row7 col14\" >0.544721</td>\n",
       "                        <td id=\"T_1ba6f9d1_662f_11eb_95ae_38378bf523e9row7_col15\" class=\"data row7 col15\" >0.747035</td>\n",
       "                        <td id=\"T_1ba6f9d1_662f_11eb_95ae_38378bf523e9row7_col16\" class=\"data row7 col16\" >-0.697083</td>\n",
       "                        <td id=\"T_1ba6f9d1_662f_11eb_95ae_38378bf523e9row7_col17\" class=\"data row7 col17\" >0.390060</td>\n",
       "                        <td id=\"T_1ba6f9d1_662f_11eb_95ae_38378bf523e9row7_col18\" class=\"data row7 col18\" >0.313803</td>\n",
       "                        <td id=\"T_1ba6f9d1_662f_11eb_95ae_38378bf523e9row7_col19\" class=\"data row7 col19\" >0.781571</td>\n",
       "            </tr>\n",
       "            <tr>\n",
       "                        <th id=\"T_1ba6f9d1_662f_11eb_95ae_38378bf523e9level0_row8\" class=\"row_heading level0 row8\" >Jitter:DDP</th>\n",
       "                        <td id=\"T_1ba6f9d1_662f_11eb_95ae_38378bf523e9row8_col0\" class=\"data row8 col0\" >0.098594</td>\n",
       "                        <td id=\"T_1ba6f9d1_662f_11eb_95ae_38378bf523e9row8_col1\" class=\"data row8 col1\" >0.090003</td>\n",
       "                        <td id=\"T_1ba6f9d1_662f_11eb_95ae_38378bf523e9row8_col2\" class=\"data row8 col2\" >0.206292</td>\n",
       "                        <td id=\"T_1ba6f9d1_662f_11eb_95ae_38378bf523e9row8_col3\" class=\"data row8 col3\" >0.212796</td>\n",
       "                        <td id=\"T_1ba6f9d1_662f_11eb_95ae_38378bf523e9row8_col4\" class=\"data row8 col4\" >0.978946</td>\n",
       "                        <td id=\"T_1ba6f9d1_662f_11eb_95ae_38378bf523e9row8_col5\" class=\"data row8 col5\" >0.806419</td>\n",
       "                        <td id=\"T_1ba6f9d1_662f_11eb_95ae_38378bf523e9row8_col6\" class=\"data row8 col6\" >0.999998</td>\n",
       "                        <td id=\"T_1ba6f9d1_662f_11eb_95ae_38378bf523e9row8_col7\" class=\"data row8 col7\" >0.946346</td>\n",
       "                        <td id=\"T_1ba6f9d1_662f_11eb_95ae_38378bf523e9row8_col8\" class=\"data row8 col8\" >1.000000</td>\n",
       "                        <td id=\"T_1ba6f9d1_662f_11eb_95ae_38378bf523e9row8_col9\" class=\"data row8 col9\" >0.582147</td>\n",
       "                        <td id=\"T_1ba6f9d1_662f_11eb_95ae_38378bf523e9row8_col10\" class=\"data row8 col10\" >0.555485</td>\n",
       "                        <td id=\"T_1ba6f9d1_662f_11eb_95ae_38378bf523e9row8_col11\" class=\"data row8 col11\" >0.606255</td>\n",
       "                        <td id=\"T_1ba6f9d1_662f_11eb_95ae_38378bf523e9row8_col12\" class=\"data row8 col12\" >0.516486</td>\n",
       "                        <td id=\"T_1ba6f9d1_662f_11eb_95ae_38378bf523e9row8_col13\" class=\"data row8 col13\" >0.372406</td>\n",
       "                        <td id=\"T_1ba6f9d1_662f_11eb_95ae_38378bf523e9row8_col14\" class=\"data row8 col14\" >0.606201</td>\n",
       "                        <td id=\"T_1ba6f9d1_662f_11eb_95ae_38378bf523e9row8_col15\" class=\"data row8 col15\" >0.716968</td>\n",
       "                        <td id=\"T_1ba6f9d1_662f_11eb_95ae_38378bf523e9row8_col16\" class=\"data row8 col16\" >-0.626282</td>\n",
       "                        <td id=\"T_1ba6f9d1_662f_11eb_95ae_38378bf523e9row8_col17\" class=\"data row8 col17\" >0.343596</td>\n",
       "                        <td id=\"T_1ba6f9d1_662f_11eb_95ae_38378bf523e9row8_col18\" class=\"data row8 col18\" >0.223370</td>\n",
       "                        <td id=\"T_1ba6f9d1_662f_11eb_95ae_38378bf523e9row8_col19\" class=\"data row8 col19\" >0.641333</td>\n",
       "            </tr>\n",
       "            <tr>\n",
       "                        <th id=\"T_1ba6f9d1_662f_11eb_95ae_38378bf523e9level0_row9\" class=\"row_heading level0 row9\" >Shimmer</th>\n",
       "                        <td id=\"T_1ba6f9d1_662f_11eb_95ae_38378bf523e9row9_col0\" class=\"data row9 col0\" >0.318970</td>\n",
       "                        <td id=\"T_1ba6f9d1_662f_11eb_95ae_38378bf523e9row9_col1\" class=\"data row9 col1\" >0.010504</td>\n",
       "                        <td id=\"T_1ba6f9d1_662f_11eb_95ae_38378bf523e9row9_col2\" class=\"data row9 col2\" >0.161508</td>\n",
       "                        <td id=\"T_1ba6f9d1_662f_11eb_95ae_38378bf523e9row9_col3\" class=\"data row9 col3\" >0.201562</td>\n",
       "                        <td id=\"T_1ba6f9d1_662f_11eb_95ae_38378bf523e9row9_col4\" class=\"data row9 col4\" >0.592623</td>\n",
       "                        <td id=\"T_1ba6f9d1_662f_11eb_95ae_38378bf523e9row9_col5\" class=\"data row9 col5\" >0.497709</td>\n",
       "                        <td id=\"T_1ba6f9d1_662f_11eb_95ae_38378bf523e9row9_col6\" class=\"data row9 col6\" >0.582579</td>\n",
       "                        <td id=\"T_1ba6f9d1_662f_11eb_95ae_38378bf523e9row9_col7\" class=\"data row9 col7\" >0.551171</td>\n",
       "                        <td id=\"T_1ba6f9d1_662f_11eb_95ae_38378bf523e9row9_col8\" class=\"data row9 col8\" >0.582147</td>\n",
       "                        <td id=\"T_1ba6f9d1_662f_11eb_95ae_38378bf523e9row9_col9\" class=\"data row9 col9\" >1.000000</td>\n",
       "                        <td id=\"T_1ba6f9d1_662f_11eb_95ae_38378bf523e9row9_col10\" class=\"data row9 col10\" >0.984128</td>\n",
       "                        <td id=\"T_1ba6f9d1_662f_11eb_95ae_38378bf523e9row9_col11\" class=\"data row9 col11\" >0.982832</td>\n",
       "                        <td id=\"T_1ba6f9d1_662f_11eb_95ae_38378bf523e9row9_col12\" class=\"data row9 col12\" >0.965977</td>\n",
       "                        <td id=\"T_1ba6f9d1_662f_11eb_95ae_38378bf523e9row9_col13\" class=\"data row9 col13\" >0.854141</td>\n",
       "                        <td id=\"T_1ba6f9d1_662f_11eb_95ae_38378bf523e9row9_col14\" class=\"data row9 col14\" >0.982822</td>\n",
       "                        <td id=\"T_1ba6f9d1_662f_11eb_95ae_38378bf523e9row9_col15\" class=\"data row9 col15\" >0.574450</td>\n",
       "                        <td id=\"T_1ba6f9d1_662f_11eb_95ae_38378bf523e9row9_col16\" class=\"data row9 col16\" >-0.616655</td>\n",
       "                        <td id=\"T_1ba6f9d1_662f_11eb_95ae_38378bf523e9row9_col17\" class=\"data row9 col17\" >0.450349</td>\n",
       "                        <td id=\"T_1ba6f9d1_662f_11eb_95ae_38378bf523e9row9_col18\" class=\"data row9 col18\" >0.230061</td>\n",
       "                        <td id=\"T_1ba6f9d1_662f_11eb_95ae_38378bf523e9row9_col19\" class=\"data row9 col19\" >0.481371</td>\n",
       "            </tr>\n",
       "            <tr>\n",
       "                        <th id=\"T_1ba6f9d1_662f_11eb_95ae_38378bf523e9level0_row10\" class=\"row_heading level0 row10\" >Shimmer(dB)</th>\n",
       "                        <td id=\"T_1ba6f9d1_662f_11eb_95ae_38378bf523e9row10_col0\" class=\"data row10 col0\" >0.330644</td>\n",
       "                        <td id=\"T_1ba6f9d1_662f_11eb_95ae_38378bf523e9row10_col1\" class=\"data row10 col1\" >-0.028309</td>\n",
       "                        <td id=\"T_1ba6f9d1_662f_11eb_95ae_38378bf523e9row10_col2\" class=\"data row10 col2\" >0.132193</td>\n",
       "                        <td id=\"T_1ba6f9d1_662f_11eb_95ae_38378bf523e9row10_col3\" class=\"data row10 col3\" >0.170776</td>\n",
       "                        <td id=\"T_1ba6f9d1_662f_11eb_95ae_38378bf523e9row10_col4\" class=\"data row10 col4\" >0.577236</td>\n",
       "                        <td id=\"T_1ba6f9d1_662f_11eb_95ae_38378bf523e9row10_col5\" class=\"data row10 col5\" >0.484553</td>\n",
       "                        <td id=\"T_1ba6f9d1_662f_11eb_95ae_38378bf523e9row10_col6\" class=\"data row10 col6\" >0.555971</td>\n",
       "                        <td id=\"T_1ba6f9d1_662f_11eb_95ae_38378bf523e9row10_col7\" class=\"data row10 col7\" >0.532243</td>\n",
       "                        <td id=\"T_1ba6f9d1_662f_11eb_95ae_38378bf523e9row10_col8\" class=\"data row10 col8\" >0.555485</td>\n",
       "                        <td id=\"T_1ba6f9d1_662f_11eb_95ae_38378bf523e9row10_col9\" class=\"data row10 col9\" >0.984128</td>\n",
       "                        <td id=\"T_1ba6f9d1_662f_11eb_95ae_38378bf523e9row10_col10\" class=\"data row10 col10\" >1.000000</td>\n",
       "                        <td id=\"T_1ba6f9d1_662f_11eb_95ae_38378bf523e9row10_col11\" class=\"data row10 col11\" >0.959665</td>\n",
       "                        <td id=\"T_1ba6f9d1_662f_11eb_95ae_38378bf523e9row10_col12\" class=\"data row10 col12\" >0.950274</td>\n",
       "                        <td id=\"T_1ba6f9d1_662f_11eb_95ae_38378bf523e9row10_col13\" class=\"data row10 col13\" >0.854654</td>\n",
       "                        <td id=\"T_1ba6f9d1_662f_11eb_95ae_38378bf523e9row10_col14\" class=\"data row10 col14\" >0.959651</td>\n",
       "                        <td id=\"T_1ba6f9d1_662f_11eb_95ae_38378bf523e9row10_col15\" class=\"data row10 col15\" >0.570552</td>\n",
       "                        <td id=\"T_1ba6f9d1_662f_11eb_95ae_38378bf523e9row10_col16\" class=\"data row10 col16\" >-0.587507</td>\n",
       "                        <td id=\"T_1ba6f9d1_662f_11eb_95ae_38378bf523e9row10_col17\" class=\"data row10 col17\" >0.423882</td>\n",
       "                        <td id=\"T_1ba6f9d1_662f_11eb_95ae_38378bf523e9row10_col18\" class=\"data row10 col18\" >0.198258</td>\n",
       "                        <td id=\"T_1ba6f9d1_662f_11eb_95ae_38378bf523e9row10_col19\" class=\"data row10 col19\" >0.474179</td>\n",
       "            </tr>\n",
       "            <tr>\n",
       "                        <th id=\"T_1ba6f9d1_662f_11eb_95ae_38378bf523e9level0_row11\" class=\"row_heading level0 row11\" >Shimmer:APQ3</th>\n",
       "                        <td id=\"T_1ba6f9d1_662f_11eb_95ae_38378bf523e9row11_col0\" class=\"data row11 col0\" >0.309114</td>\n",
       "                        <td id=\"T_1ba6f9d1_662f_11eb_95ae_38378bf523e9row11_col1\" class=\"data row11 col1\" >0.039533</td>\n",
       "                        <td id=\"T_1ba6f9d1_662f_11eb_95ae_38378bf523e9row11_col2\" class=\"data row11 col2\" >0.167279</td>\n",
       "                        <td id=\"T_1ba6f9d1_662f_11eb_95ae_38378bf523e9row11_col3\" class=\"data row11 col3\" >0.201930</td>\n",
       "                        <td id=\"T_1ba6f9d1_662f_11eb_95ae_38378bf523e9row11_col4\" class=\"data row11 col4\" >0.592258</td>\n",
       "                        <td id=\"T_1ba6f9d1_662f_11eb_95ae_38378bf523e9row11_col5\" class=\"data row11 col5\" >0.473510</td>\n",
       "                        <td id=\"T_1ba6f9d1_662f_11eb_95ae_38378bf523e9row11_col6\" class=\"data row11 col6\" >0.606698</td>\n",
       "                        <td id=\"T_1ba6f9d1_662f_11eb_95ae_38378bf523e9row11_col7\" class=\"data row11 col7\" >0.544765</td>\n",
       "                        <td id=\"T_1ba6f9d1_662f_11eb_95ae_38378bf523e9row11_col8\" class=\"data row11 col8\" >0.606255</td>\n",
       "                        <td id=\"T_1ba6f9d1_662f_11eb_95ae_38378bf523e9row11_col9\" class=\"data row11 col9\" >0.982832</td>\n",
       "                        <td id=\"T_1ba6f9d1_662f_11eb_95ae_38378bf523e9row11_col10\" class=\"data row11 col10\" >0.959665</td>\n",
       "                        <td id=\"T_1ba6f9d1_662f_11eb_95ae_38378bf523e9row11_col11\" class=\"data row11 col11\" >1.000000</td>\n",
       "                        <td id=\"T_1ba6f9d1_662f_11eb_95ae_38378bf523e9row11_col12\" class=\"data row11 col12\" >0.933727</td>\n",
       "                        <td id=\"T_1ba6f9d1_662f_11eb_95ae_38378bf523e9row11_col13\" class=\"data row11 col13\" >0.765381</td>\n",
       "                        <td id=\"T_1ba6f9d1_662f_11eb_95ae_38378bf523e9row11_col14\" class=\"data row11 col14\" >1.000000</td>\n",
       "                        <td id=\"T_1ba6f9d1_662f_11eb_95ae_38378bf523e9row11_col15\" class=\"data row11 col15\" >0.575238</td>\n",
       "                        <td id=\"T_1ba6f9d1_662f_11eb_95ae_38378bf523e9row11_col16\" class=\"data row11 col16\" >-0.611572</td>\n",
       "                        <td id=\"T_1ba6f9d1_662f_11eb_95ae_38378bf523e9row11_col17\" class=\"data row11 col17\" >0.406974</td>\n",
       "                        <td id=\"T_1ba6f9d1_662f_11eb_95ae_38378bf523e9row11_col18\" class=\"data row11 col18\" >0.178803</td>\n",
       "                        <td id=\"T_1ba6f9d1_662f_11eb_95ae_38378bf523e9row11_col19\" class=\"data row11 col19\" >0.417615</td>\n",
       "            </tr>\n",
       "            <tr>\n",
       "                        <th id=\"T_1ba6f9d1_662f_11eb_95ae_38378bf523e9level0_row12\" class=\"row_heading level0 row12\" >Shimmer:APQ5</th>\n",
       "                        <td id=\"T_1ba6f9d1_662f_11eb_95ae_38378bf523e9row12_col0\" class=\"data row12 col0\" >0.396690</td>\n",
       "                        <td id=\"T_1ba6f9d1_662f_11eb_95ae_38378bf523e9row12_col1\" class=\"data row12 col1\" >0.051327</td>\n",
       "                        <td id=\"T_1ba6f9d1_662f_11eb_95ae_38378bf523e9row12_col2\" class=\"data row12 col2\" >0.081448</td>\n",
       "                        <td id=\"T_1ba6f9d1_662f_11eb_95ae_38378bf523e9row12_col3\" class=\"data row12 col3\" >0.148233</td>\n",
       "                        <td id=\"T_1ba6f9d1_662f_11eb_95ae_38378bf523e9row12_col4\" class=\"data row12 col4\" >0.535830</td>\n",
       "                        <td id=\"T_1ba6f9d1_662f_11eb_95ae_38378bf523e9row12_col5\" class=\"data row12 col5\" >0.445970</td>\n",
       "                        <td id=\"T_1ba6f9d1_662f_11eb_95ae_38378bf523e9row12_col6\" class=\"data row12 col6\" >0.516954</td>\n",
       "                        <td id=\"T_1ba6f9d1_662f_11eb_95ae_38378bf523e9row12_col7\" class=\"data row12 col7\" >0.535794</td>\n",
       "                        <td id=\"T_1ba6f9d1_662f_11eb_95ae_38378bf523e9row12_col8\" class=\"data row12 col8\" >0.516486</td>\n",
       "                        <td id=\"T_1ba6f9d1_662f_11eb_95ae_38378bf523e9row12_col9\" class=\"data row12 col9\" >0.965977</td>\n",
       "                        <td id=\"T_1ba6f9d1_662f_11eb_95ae_38378bf523e9row12_col10\" class=\"data row12 col10\" >0.950274</td>\n",
       "                        <td id=\"T_1ba6f9d1_662f_11eb_95ae_38378bf523e9row12_col11\" class=\"data row12 col11\" >0.933727</td>\n",
       "                        <td id=\"T_1ba6f9d1_662f_11eb_95ae_38378bf523e9row12_col12\" class=\"data row12 col12\" >1.000000</td>\n",
       "                        <td id=\"T_1ba6f9d1_662f_11eb_95ae_38378bf523e9row12_col13\" class=\"data row12 col13\" >0.898454</td>\n",
       "                        <td id=\"T_1ba6f9d1_662f_11eb_95ae_38378bf523e9row12_col14\" class=\"data row12 col14\" >0.933757</td>\n",
       "                        <td id=\"T_1ba6f9d1_662f_11eb_95ae_38378bf523e9row12_col15\" class=\"data row12 col15\" >0.562684</td>\n",
       "                        <td id=\"T_1ba6f9d1_662f_11eb_95ae_38378bf523e9row12_col16\" class=\"data row12 col16\" >-0.628846</td>\n",
       "                        <td id=\"T_1ba6f9d1_662f_11eb_95ae_38378bf523e9row12_col17\" class=\"data row12 col17\" >0.414134</td>\n",
       "                        <td id=\"T_1ba6f9d1_662f_11eb_95ae_38378bf523e9row12_col18\" class=\"data row12 col18\" >0.287439</td>\n",
       "                        <td id=\"T_1ba6f9d1_662f_11eb_95ae_38378bf523e9row12_col19\" class=\"data row12 col19\" >0.515297</td>\n",
       "            </tr>\n",
       "            <tr>\n",
       "                        <th id=\"T_1ba6f9d1_662f_11eb_95ae_38378bf523e9level0_row13\" class=\"row_heading level0 row13\" >Shimmer:APQ11</th>\n",
       "                        <td id=\"T_1ba6f9d1_662f_11eb_95ae_38378bf523e9row13_col0\" class=\"data row13 col0\" >0.414197</td>\n",
       "                        <td id=\"T_1ba6f9d1_662f_11eb_95ae_38378bf523e9row13_col1\" class=\"data row13 col1\" >-0.063010</td>\n",
       "                        <td id=\"T_1ba6f9d1_662f_11eb_95ae_38378bf523e9row13_col2\" class=\"data row13 col2\" >0.099589</td>\n",
       "                        <td id=\"T_1ba6f9d1_662f_11eb_95ae_38378bf523e9row13_col3\" class=\"data row13 col3\" >0.176471</td>\n",
       "                        <td id=\"T_1ba6f9d1_662f_11eb_95ae_38378bf523e9row13_col4\" class=\"data row13 col4\" >0.444508</td>\n",
       "                        <td id=\"T_1ba6f9d1_662f_11eb_95ae_38378bf523e9row13_col5\" class=\"data row13 col5\" >0.424985</td>\n",
       "                        <td id=\"T_1ba6f9d1_662f_11eb_95ae_38378bf523e9row13_col6\" class=\"data row13 col6\" >0.372886</td>\n",
       "                        <td id=\"T_1ba6f9d1_662f_11eb_95ae_38378bf523e9row13_col7\" class=\"data row13 col7\" >0.464210</td>\n",
       "                        <td id=\"T_1ba6f9d1_662f_11eb_95ae_38378bf523e9row13_col8\" class=\"data row13 col8\" >0.372406</td>\n",
       "                        <td id=\"T_1ba6f9d1_662f_11eb_95ae_38378bf523e9row13_col9\" class=\"data row13 col9\" >0.854141</td>\n",
       "                        <td id=\"T_1ba6f9d1_662f_11eb_95ae_38378bf523e9row13_col10\" class=\"data row13 col10\" >0.854654</td>\n",
       "                        <td id=\"T_1ba6f9d1_662f_11eb_95ae_38378bf523e9row13_col11\" class=\"data row13 col11\" >0.765381</td>\n",
       "                        <td id=\"T_1ba6f9d1_662f_11eb_95ae_38378bf523e9row13_col12\" class=\"data row13 col12\" >0.898454</td>\n",
       "                        <td id=\"T_1ba6f9d1_662f_11eb_95ae_38378bf523e9row13_col13\" class=\"data row13 col13\" >1.000000</td>\n",
       "                        <td id=\"T_1ba6f9d1_662f_11eb_95ae_38378bf523e9row13_col14\" class=\"data row13 col14\" >0.765377</td>\n",
       "                        <td id=\"T_1ba6f9d1_662f_11eb_95ae_38378bf523e9row13_col15\" class=\"data row13 col15\" >0.524718</td>\n",
       "                        <td id=\"T_1ba6f9d1_662f_11eb_95ae_38378bf523e9row13_col16\" class=\"data row13 col16\" >-0.624607</td>\n",
       "                        <td id=\"T_1ba6f9d1_662f_11eb_95ae_38378bf523e9row13_col17\" class=\"data row13 col17\" >0.486980</td>\n",
       "                        <td id=\"T_1ba6f9d1_662f_11eb_95ae_38378bf523e9row13_col18\" class=\"data row13 col18\" >0.281832</td>\n",
       "                        <td id=\"T_1ba6f9d1_662f_11eb_95ae_38378bf523e9row13_col19\" class=\"data row13 col19\" >0.585956</td>\n",
       "            </tr>\n",
       "            <tr>\n",
       "                        <th id=\"T_1ba6f9d1_662f_11eb_95ae_38378bf523e9level0_row14\" class=\"row_heading level0 row14\" >Shimmer:DDA</th>\n",
       "                        <td id=\"T_1ba6f9d1_662f_11eb_95ae_38378bf523e9row14_col0\" class=\"data row14 col0\" >0.309178</td>\n",
       "                        <td id=\"T_1ba6f9d1_662f_11eb_95ae_38378bf523e9row14_col1\" class=\"data row14 col1\" >0.039634</td>\n",
       "                        <td id=\"T_1ba6f9d1_662f_11eb_95ae_38378bf523e9row14_col2\" class=\"data row14 col2\" >0.167219</td>\n",
       "                        <td id=\"T_1ba6f9d1_662f_11eb_95ae_38378bf523e9row14_col3\" class=\"data row14 col3\" >0.201889</td>\n",
       "                        <td id=\"T_1ba6f9d1_662f_11eb_95ae_38378bf523e9row14_col4\" class=\"data row14 col4\" >0.592194</td>\n",
       "                        <td id=\"T_1ba6f9d1_662f_11eb_95ae_38378bf523e9row14_col5\" class=\"data row14 col5\" >0.473411</td>\n",
       "                        <td id=\"T_1ba6f9d1_662f_11eb_95ae_38378bf523e9row14_col6\" class=\"data row14 col6\" >0.606645</td>\n",
       "                        <td id=\"T_1ba6f9d1_662f_11eb_95ae_38378bf523e9row14_col7\" class=\"data row14 col7\" >0.544721</td>\n",
       "                        <td id=\"T_1ba6f9d1_662f_11eb_95ae_38378bf523e9row14_col8\" class=\"data row14 col8\" >0.606201</td>\n",
       "                        <td id=\"T_1ba6f9d1_662f_11eb_95ae_38378bf523e9row14_col9\" class=\"data row14 col9\" >0.982822</td>\n",
       "                        <td id=\"T_1ba6f9d1_662f_11eb_95ae_38378bf523e9row14_col10\" class=\"data row14 col10\" >0.959651</td>\n",
       "                        <td id=\"T_1ba6f9d1_662f_11eb_95ae_38378bf523e9row14_col11\" class=\"data row14 col11\" >1.000000</td>\n",
       "                        <td id=\"T_1ba6f9d1_662f_11eb_95ae_38378bf523e9row14_col12\" class=\"data row14 col12\" >0.933757</td>\n",
       "                        <td id=\"T_1ba6f9d1_662f_11eb_95ae_38378bf523e9row14_col13\" class=\"data row14 col13\" >0.765377</td>\n",
       "                        <td id=\"T_1ba6f9d1_662f_11eb_95ae_38378bf523e9row14_col14\" class=\"data row14 col14\" >1.000000</td>\n",
       "                        <td id=\"T_1ba6f9d1_662f_11eb_95ae_38378bf523e9row14_col15\" class=\"data row14 col15\" >0.575223</td>\n",
       "                        <td id=\"T_1ba6f9d1_662f_11eb_95ae_38378bf523e9row14_col16\" class=\"data row14 col16\" >-0.611605</td>\n",
       "                        <td id=\"T_1ba6f9d1_662f_11eb_95ae_38378bf523e9row14_col17\" class=\"data row14 col17\" >0.406943</td>\n",
       "                        <td id=\"T_1ba6f9d1_662f_11eb_95ae_38378bf523e9row14_col18\" class=\"data row14 col18\" >0.178818</td>\n",
       "                        <td id=\"T_1ba6f9d1_662f_11eb_95ae_38378bf523e9row14_col19\" class=\"data row14 col19\" >0.417585</td>\n",
       "            </tr>\n",
       "            <tr>\n",
       "                        <th id=\"T_1ba6f9d1_662f_11eb_95ae_38378bf523e9level0_row15\" class=\"row_heading level0 row15\" >NHR</th>\n",
       "                        <td id=\"T_1ba6f9d1_662f_11eb_95ae_38378bf523e9row15_col0\" class=\"data row15 col0\" >0.199088</td>\n",
       "                        <td id=\"T_1ba6f9d1_662f_11eb_95ae_38378bf523e9row15_col1\" class=\"data row15 col1\" >-0.111490</td>\n",
       "                        <td id=\"T_1ba6f9d1_662f_11eb_95ae_38378bf523e9row15_col2\" class=\"data row15 col2\" >0.271818</td>\n",
       "                        <td id=\"T_1ba6f9d1_662f_11eb_95ae_38378bf523e9row15_col3\" class=\"data row15 col3\" >0.231888</td>\n",
       "                        <td id=\"T_1ba6f9d1_662f_11eb_95ae_38378bf523e9row15_col4\" class=\"data row15 col4\" >0.749969</td>\n",
       "                        <td id=\"T_1ba6f9d1_662f_11eb_95ae_38378bf523e9row15_col5\" class=\"data row15 col5\" >0.709241</td>\n",
       "                        <td id=\"T_1ba6f9d1_662f_11eb_95ae_38378bf523e9row15_col6\" class=\"data row15 col6\" >0.717208</td>\n",
       "                        <td id=\"T_1ba6f9d1_662f_11eb_95ae_38378bf523e9row15_col7\" class=\"data row15 col7\" >0.747035</td>\n",
       "                        <td id=\"T_1ba6f9d1_662f_11eb_95ae_38378bf523e9row15_col8\" class=\"data row15 col8\" >0.716968</td>\n",
       "                        <td id=\"T_1ba6f9d1_662f_11eb_95ae_38378bf523e9row15_col9\" class=\"data row15 col9\" >0.574450</td>\n",
       "                        <td id=\"T_1ba6f9d1_662f_11eb_95ae_38378bf523e9row15_col10\" class=\"data row15 col10\" >0.570552</td>\n",
       "                        <td id=\"T_1ba6f9d1_662f_11eb_95ae_38378bf523e9row15_col11\" class=\"data row15 col11\" >0.575238</td>\n",
       "                        <td id=\"T_1ba6f9d1_662f_11eb_95ae_38378bf523e9row15_col12\" class=\"data row15 col12\" >0.562684</td>\n",
       "                        <td id=\"T_1ba6f9d1_662f_11eb_95ae_38378bf523e9row15_col13\" class=\"data row15 col13\" >0.524718</td>\n",
       "                        <td id=\"T_1ba6f9d1_662f_11eb_95ae_38378bf523e9row15_col14\" class=\"data row15 col14\" >0.575223</td>\n",
       "                        <td id=\"T_1ba6f9d1_662f_11eb_95ae_38378bf523e9row15_col15\" class=\"data row15 col15\" >1.000000</td>\n",
       "                        <td id=\"T_1ba6f9d1_662f_11eb_95ae_38378bf523e9row15_col16\" class=\"data row15 col16\" >-0.819821</td>\n",
       "                        <td id=\"T_1ba6f9d1_662f_11eb_95ae_38378bf523e9row15_col17\" class=\"data row15 col17\" >0.562928</td>\n",
       "                        <td id=\"T_1ba6f9d1_662f_11eb_95ae_38378bf523e9row15_col18\" class=\"data row15 col18\" >0.066461</td>\n",
       "                        <td id=\"T_1ba6f9d1_662f_11eb_95ae_38378bf523e9row15_col19\" class=\"data row15 col19\" >0.610357</td>\n",
       "            </tr>\n",
       "            <tr>\n",
       "                        <th id=\"T_1ba6f9d1_662f_11eb_95ae_38378bf523e9level0_row16\" class=\"row_heading level0 row16\" >HNR</th>\n",
       "                        <td id=\"T_1ba6f9d1_662f_11eb_95ae_38378bf523e9row16_col0\" class=\"data row16 col0\" >-0.337733</td>\n",
       "                        <td id=\"T_1ba6f9d1_662f_11eb_95ae_38378bf523e9row16_col1\" class=\"data row16 col1\" >0.032340</td>\n",
       "                        <td id=\"T_1ba6f9d1_662f_11eb_95ae_38378bf523e9row16_col2\" class=\"data row16 col2\" >-0.292676</td>\n",
       "                        <td id=\"T_1ba6f9d1_662f_11eb_95ae_38378bf523e9row16_col3\" class=\"data row16 col3\" >-0.299075</td>\n",
       "                        <td id=\"T_1ba6f9d1_662f_11eb_95ae_38378bf523e9row16_col4\" class=\"data row16 col4\" >-0.662716</td>\n",
       "                        <td id=\"T_1ba6f9d1_662f_11eb_95ae_38378bf523e9row16_col5\" class=\"data row16 col5\" >-0.652313</td>\n",
       "                        <td id=\"T_1ba6f9d1_662f_11eb_95ae_38378bf523e9row16_col6\" class=\"data row16 col6\" >-0.626593</td>\n",
       "                        <td id=\"T_1ba6f9d1_662f_11eb_95ae_38378bf523e9row16_col7\" class=\"data row16 col7\" >-0.697083</td>\n",
       "                        <td id=\"T_1ba6f9d1_662f_11eb_95ae_38378bf523e9row16_col8\" class=\"data row16 col8\" >-0.626282</td>\n",
       "                        <td id=\"T_1ba6f9d1_662f_11eb_95ae_38378bf523e9row16_col9\" class=\"data row16 col9\" >-0.616655</td>\n",
       "                        <td id=\"T_1ba6f9d1_662f_11eb_95ae_38378bf523e9row16_col10\" class=\"data row16 col10\" >-0.587507</td>\n",
       "                        <td id=\"T_1ba6f9d1_662f_11eb_95ae_38378bf523e9row16_col11\" class=\"data row16 col11\" >-0.611572</td>\n",
       "                        <td id=\"T_1ba6f9d1_662f_11eb_95ae_38378bf523e9row16_col12\" class=\"data row16 col12\" >-0.628846</td>\n",
       "                        <td id=\"T_1ba6f9d1_662f_11eb_95ae_38378bf523e9row16_col13\" class=\"data row16 col13\" >-0.624607</td>\n",
       "                        <td id=\"T_1ba6f9d1_662f_11eb_95ae_38378bf523e9row16_col14\" class=\"data row16 col14\" >-0.611605</td>\n",
       "                        <td id=\"T_1ba6f9d1_662f_11eb_95ae_38378bf523e9row16_col15\" class=\"data row16 col15\" >-0.819821</td>\n",
       "                        <td id=\"T_1ba6f9d1_662f_11eb_95ae_38378bf523e9row16_col16\" class=\"data row16 col16\" >1.000000</td>\n",
       "                        <td id=\"T_1ba6f9d1_662f_11eb_95ae_38378bf523e9row16_col17\" class=\"data row16 col17\" >-0.626402</td>\n",
       "                        <td id=\"T_1ba6f9d1_662f_11eb_95ae_38378bf523e9row16_col18\" class=\"data row16 col18\" >-0.170057</td>\n",
       "                        <td id=\"T_1ba6f9d1_662f_11eb_95ae_38378bf523e9row16_col19\" class=\"data row16 col19\" >-0.648260</td>\n",
       "            </tr>\n",
       "            <tr>\n",
       "                        <th id=\"T_1ba6f9d1_662f_11eb_95ae_38378bf523e9level0_row17\" class=\"row_heading level0 row17\" >RPDE</th>\n",
       "                        <td id=\"T_1ba6f9d1_662f_11eb_95ae_38378bf523e9row17_col0\" class=\"data row17 col0\" >0.177245</td>\n",
       "                        <td id=\"T_1ba6f9d1_662f_11eb_95ae_38378bf523e9row17_col1\" class=\"data row17 col1\" >-0.149839</td>\n",
       "                        <td id=\"T_1ba6f9d1_662f_11eb_95ae_38378bf523e9row17_col2\" class=\"data row17 col2\" >0.124979</td>\n",
       "                        <td id=\"T_1ba6f9d1_662f_11eb_95ae_38378bf523e9row17_col3\" class=\"data row17 col3\" >0.125236</td>\n",
       "                        <td id=\"T_1ba6f9d1_662f_11eb_95ae_38378bf523e9row17_col4\" class=\"data row17 col4\" >0.410161</td>\n",
       "                        <td id=\"T_1ba6f9d1_662f_11eb_95ae_38378bf523e9row17_col5\" class=\"data row17 col5\" >0.543210</td>\n",
       "                        <td id=\"T_1ba6f9d1_662f_11eb_95ae_38378bf523e9row17_col6\" class=\"data row17 col6\" >0.343402</td>\n",
       "                        <td id=\"T_1ba6f9d1_662f_11eb_95ae_38378bf523e9row17_col7\" class=\"data row17 col7\" >0.390060</td>\n",
       "                        <td id=\"T_1ba6f9d1_662f_11eb_95ae_38378bf523e9row17_col8\" class=\"data row17 col8\" >0.343596</td>\n",
       "                        <td id=\"T_1ba6f9d1_662f_11eb_95ae_38378bf523e9row17_col9\" class=\"data row17 col9\" >0.450349</td>\n",
       "                        <td id=\"T_1ba6f9d1_662f_11eb_95ae_38378bf523e9row17_col10\" class=\"data row17 col10\" >0.423882</td>\n",
       "                        <td id=\"T_1ba6f9d1_662f_11eb_95ae_38378bf523e9row17_col11\" class=\"data row17 col11\" >0.406974</td>\n",
       "                        <td id=\"T_1ba6f9d1_662f_11eb_95ae_38378bf523e9row17_col12\" class=\"data row17 col12\" >0.414134</td>\n",
       "                        <td id=\"T_1ba6f9d1_662f_11eb_95ae_38378bf523e9row17_col13\" class=\"data row17 col13\" >0.486980</td>\n",
       "                        <td id=\"T_1ba6f9d1_662f_11eb_95ae_38378bf523e9row17_col14\" class=\"data row17 col14\" >0.406943</td>\n",
       "                        <td id=\"T_1ba6f9d1_662f_11eb_95ae_38378bf523e9row17_col15\" class=\"data row17 col15\" >0.562928</td>\n",
       "                        <td id=\"T_1ba6f9d1_662f_11eb_95ae_38378bf523e9row17_col16\" class=\"data row17 col16\" >-0.626402</td>\n",
       "                        <td id=\"T_1ba6f9d1_662f_11eb_95ae_38378bf523e9row17_col17\" class=\"data row17 col17\" >1.000000</td>\n",
       "                        <td id=\"T_1ba6f9d1_662f_11eb_95ae_38378bf523e9row17_col18\" class=\"data row17 col18\" >0.075684</td>\n",
       "                        <td id=\"T_1ba6f9d1_662f_11eb_95ae_38378bf523e9row17_col19\" class=\"data row17 col19\" >0.446981</td>\n",
       "            </tr>\n",
       "            <tr>\n",
       "                        <th id=\"T_1ba6f9d1_662f_11eb_95ae_38378bf523e9level0_row18\" class=\"row_heading level0 row18\" >DFA</th>\n",
       "                        <td id=\"T_1ba6f9d1_662f_11eb_95ae_38378bf523e9row18_col0\" class=\"data row18 col0\" >-0.258228</td>\n",
       "                        <td id=\"T_1ba6f9d1_662f_11eb_95ae_38378bf523e9row18_col1\" class=\"data row18 col1\" >-0.023563</td>\n",
       "                        <td id=\"T_1ba6f9d1_662f_11eb_95ae_38378bf523e9row18_col2\" class=\"data row18 col2\" >-0.101352</td>\n",
       "                        <td id=\"T_1ba6f9d1_662f_11eb_95ae_38378bf523e9row18_col3\" class=\"data row18 col3\" >0.022828</td>\n",
       "                        <td id=\"T_1ba6f9d1_662f_11eb_95ae_38378bf523e9row18_col4\" class=\"data row18 col4\" >0.274883</td>\n",
       "                        <td id=\"T_1ba6f9d1_662f_11eb_95ae_38378bf523e9row18_col5\" class=\"data row18 col5\" >0.388935</td>\n",
       "                        <td id=\"T_1ba6f9d1_662f_11eb_95ae_38378bf523e9row18_col6\" class=\"data row18 col6\" >0.223537</td>\n",
       "                        <td id=\"T_1ba6f9d1_662f_11eb_95ae_38378bf523e9row18_col7\" class=\"data row18 col7\" >0.313803</td>\n",
       "                        <td id=\"T_1ba6f9d1_662f_11eb_95ae_38378bf523e9row18_col8\" class=\"data row18 col8\" >0.223370</td>\n",
       "                        <td id=\"T_1ba6f9d1_662f_11eb_95ae_38378bf523e9row18_col9\" class=\"data row18 col9\" >0.230061</td>\n",
       "                        <td id=\"T_1ba6f9d1_662f_11eb_95ae_38378bf523e9row18_col10\" class=\"data row18 col10\" >0.198258</td>\n",
       "                        <td id=\"T_1ba6f9d1_662f_11eb_95ae_38378bf523e9row18_col11\" class=\"data row18 col11\" >0.178803</td>\n",
       "                        <td id=\"T_1ba6f9d1_662f_11eb_95ae_38378bf523e9row18_col12\" class=\"data row18 col12\" >0.287439</td>\n",
       "                        <td id=\"T_1ba6f9d1_662f_11eb_95ae_38378bf523e9row18_col13\" class=\"data row18 col13\" >0.281832</td>\n",
       "                        <td id=\"T_1ba6f9d1_662f_11eb_95ae_38378bf523e9row18_col14\" class=\"data row18 col14\" >0.178818</td>\n",
       "                        <td id=\"T_1ba6f9d1_662f_11eb_95ae_38378bf523e9row18_col15\" class=\"data row18 col15\" >0.066461</td>\n",
       "                        <td id=\"T_1ba6f9d1_662f_11eb_95ae_38378bf523e9row18_col16\" class=\"data row18 col16\" >-0.170057</td>\n",
       "                        <td id=\"T_1ba6f9d1_662f_11eb_95ae_38378bf523e9row18_col17\" class=\"data row18 col17\" >0.075684</td>\n",
       "                        <td id=\"T_1ba6f9d1_662f_11eb_95ae_38378bf523e9row18_col18\" class=\"data row18 col18\" >1.000000</td>\n",
       "                        <td id=\"T_1ba6f9d1_662f_11eb_95ae_38378bf523e9row18_col19\" class=\"data row18 col19\" >0.430583</td>\n",
       "            </tr>\n",
       "            <tr>\n",
       "                        <th id=\"T_1ba6f9d1_662f_11eb_95ae_38378bf523e9level0_row19\" class=\"row_heading level0 row19\" >PPE</th>\n",
       "                        <td id=\"T_1ba6f9d1_662f_11eb_95ae_38378bf523e9row19_col0\" class=\"data row19 col0\" >0.289597</td>\n",
       "                        <td id=\"T_1ba6f9d1_662f_11eb_95ae_38378bf523e9row19_col1\" class=\"data row19 col1\" >-0.072043</td>\n",
       "                        <td id=\"T_1ba6f9d1_662f_11eb_95ae_38378bf523e9row19_col2\" class=\"data row19 col2\" >0.288393</td>\n",
       "                        <td id=\"T_1ba6f9d1_662f_11eb_95ae_38378bf523e9row19_col3\" class=\"data row19 col3\" >0.360428</td>\n",
       "                        <td id=\"T_1ba6f9d1_662f_11eb_95ae_38378bf523e9row19_col4\" class=\"data row19 col4\" >0.737780</td>\n",
       "                        <td id=\"T_1ba6f9d1_662f_11eb_95ae_38378bf523e9row19_col5\" class=\"data row19 col5\" >0.713964</td>\n",
       "                        <td id=\"T_1ba6f9d1_662f_11eb_95ae_38378bf523e9row19_col6\" class=\"data row19 col6\" >0.641435</td>\n",
       "                        <td id=\"T_1ba6f9d1_662f_11eb_95ae_38378bf523e9row19_col7\" class=\"data row19 col7\" >0.781571</td>\n",
       "                        <td id=\"T_1ba6f9d1_662f_11eb_95ae_38378bf523e9row19_col8\" class=\"data row19 col8\" >0.641333</td>\n",
       "                        <td id=\"T_1ba6f9d1_662f_11eb_95ae_38378bf523e9row19_col9\" class=\"data row19 col9\" >0.481371</td>\n",
       "                        <td id=\"T_1ba6f9d1_662f_11eb_95ae_38378bf523e9row19_col10\" class=\"data row19 col10\" >0.474179</td>\n",
       "                        <td id=\"T_1ba6f9d1_662f_11eb_95ae_38378bf523e9row19_col11\" class=\"data row19 col11\" >0.417615</td>\n",
       "                        <td id=\"T_1ba6f9d1_662f_11eb_95ae_38378bf523e9row19_col12\" class=\"data row19 col12\" >0.515297</td>\n",
       "                        <td id=\"T_1ba6f9d1_662f_11eb_95ae_38378bf523e9row19_col13\" class=\"data row19 col13\" >0.585956</td>\n",
       "                        <td id=\"T_1ba6f9d1_662f_11eb_95ae_38378bf523e9row19_col14\" class=\"data row19 col14\" >0.417585</td>\n",
       "                        <td id=\"T_1ba6f9d1_662f_11eb_95ae_38378bf523e9row19_col15\" class=\"data row19 col15\" >0.610357</td>\n",
       "                        <td id=\"T_1ba6f9d1_662f_11eb_95ae_38378bf523e9row19_col16\" class=\"data row19 col16\" >-0.648260</td>\n",
       "                        <td id=\"T_1ba6f9d1_662f_11eb_95ae_38378bf523e9row19_col17\" class=\"data row19 col17\" >0.446981</td>\n",
       "                        <td id=\"T_1ba6f9d1_662f_11eb_95ae_38378bf523e9row19_col18\" class=\"data row19 col18\" >0.430583</td>\n",
       "                        <td id=\"T_1ba6f9d1_662f_11eb_95ae_38378bf523e9row19_col19\" class=\"data row19 col19\" >1.000000</td>\n",
       "            </tr>\n",
       "    </tbody></table>"
      ],
      "text/plain": [
       "<pandas.io.formats.style.Styler at 0x2040e670e20>"
      ]
     },
     "execution_count": 191,
     "metadata": {},
     "output_type": "execute_result"
    }
   ],
   "source": [
    "from matplotlib.colors import ListedColormap\n",
    "my_cmap = ListedColormap(sns.light_palette((250, 100, 50), input=\"husl\", n_colors=50).as_hex())\n",
    "table = df2.drop(['subject#'], axis=1).corr(method='pearson')\n",
    "table.style.background_gradient(cmap=my_cmap, axis = 0)"
   ]
  },
  {
   "cell_type": "code",
   "execution_count": 192,
   "metadata": {},
   "outputs": [
    {
     "data": {
      "text/plain": [
       "['PPE',\n",
       " 'Shimmer:APQ5',\n",
       " 'Jitter(Abs)',\n",
       " 'age',\n",
       " 'Shimmer:APQ11',\n",
       " 'Jitter:RAP',\n",
       " 'DFA',\n",
       " 'Shimmer:APQ3',\n",
       " 'Shimmer:DDA',\n",
       " 'motor_UPDRS',\n",
       " 'subject#',\n",
       " 'sex',\n",
       " 'Jitter(%)',\n",
       " 'HNR',\n",
       " 'RPDE',\n",
       " 'Jitter:PPQ5',\n",
       " 'Shimmer(dB)',\n",
       " 'NHR',\n",
       " 'Shimmer',\n",
       " 'Jitter:DDP']"
      ]
     },
     "execution_count": 192,
     "metadata": {},
     "output_type": "execute_result"
    }
   ],
   "source": [
    "num_cols = list(set(list(df._get_numeric_data().columns))- {'total_UPDRS', 'change'})\n",
    "num_cols"
   ]
  },
  {
   "cell_type": "code",
   "execution_count": 449,
   "metadata": {},
   "outputs": [
    {
     "data": {
      "text/html": [
       "<div>\n",
       "<style scoped>\n",
       "    .dataframe tbody tr th:only-of-type {\n",
       "        vertical-align: middle;\n",
       "    }\n",
       "\n",
       "    .dataframe tbody tr th {\n",
       "        vertical-align: top;\n",
       "    }\n",
       "\n",
       "    .dataframe thead th {\n",
       "        text-align: right;\n",
       "    }\n",
       "</style>\n",
       "<table border=\"1\" class=\"dataframe\">\n",
       "  <thead>\n",
       "    <tr style=\"text-align: right;\">\n",
       "      <th></th>\n",
       "      <th>0</th>\n",
       "      <th>1</th>\n",
       "      <th>2</th>\n",
       "      <th>3</th>\n",
       "      <th>4</th>\n",
       "    </tr>\n",
       "  </thead>\n",
       "  <tbody>\n",
       "    <tr>\n",
       "      <th>subject#</th>\n",
       "      <td>1.000000</td>\n",
       "      <td>1.000000</td>\n",
       "      <td>1.000000</td>\n",
       "      <td>1.000000</td>\n",
       "      <td>1.000000</td>\n",
       "    </tr>\n",
       "    <tr>\n",
       "      <th>age</th>\n",
       "      <td>5.000000</td>\n",
       "      <td>5.000000</td>\n",
       "      <td>5.000000</td>\n",
       "      <td>5.000000</td>\n",
       "      <td>5.000000</td>\n",
       "    </tr>\n",
       "    <tr>\n",
       "      <th>sex</th>\n",
       "      <td>0.000000</td>\n",
       "      <td>0.000000</td>\n",
       "      <td>0.000000</td>\n",
       "      <td>0.000000</td>\n",
       "      <td>0.000000</td>\n",
       "    </tr>\n",
       "    <tr>\n",
       "      <th>motor_UPDRS</th>\n",
       "      <td>28.199000</td>\n",
       "      <td>28.447000</td>\n",
       "      <td>28.695000</td>\n",
       "      <td>28.905000</td>\n",
       "      <td>29.187000</td>\n",
       "    </tr>\n",
       "    <tr>\n",
       "      <th>total_UPDRS</th>\n",
       "      <td>34.000000</td>\n",
       "      <td>34.000000</td>\n",
       "      <td>35.000000</td>\n",
       "      <td>35.000000</td>\n",
       "      <td>36.000000</td>\n",
       "    </tr>\n",
       "    <tr>\n",
       "      <th>Jitter(%)</th>\n",
       "      <td>0.006620</td>\n",
       "      <td>0.003000</td>\n",
       "      <td>0.004810</td>\n",
       "      <td>0.005280</td>\n",
       "      <td>0.003350</td>\n",
       "    </tr>\n",
       "    <tr>\n",
       "      <th>Jitter(Abs)</th>\n",
       "      <td>0.000034</td>\n",
       "      <td>0.000017</td>\n",
       "      <td>0.000025</td>\n",
       "      <td>0.000027</td>\n",
       "      <td>0.000020</td>\n",
       "    </tr>\n",
       "    <tr>\n",
       "      <th>Jitter:RAP</th>\n",
       "      <td>0.004010</td>\n",
       "      <td>0.001320</td>\n",
       "      <td>0.002050</td>\n",
       "      <td>0.001910</td>\n",
       "      <td>0.000930</td>\n",
       "    </tr>\n",
       "    <tr>\n",
       "      <th>Jitter:PPQ5</th>\n",
       "      <td>0.003170</td>\n",
       "      <td>0.001500</td>\n",
       "      <td>0.002080</td>\n",
       "      <td>0.002640</td>\n",
       "      <td>0.001300</td>\n",
       "    </tr>\n",
       "    <tr>\n",
       "      <th>Jitter:DDP</th>\n",
       "      <td>0.012040</td>\n",
       "      <td>0.003950</td>\n",
       "      <td>0.006160</td>\n",
       "      <td>0.005730</td>\n",
       "      <td>0.002780</td>\n",
       "    </tr>\n",
       "    <tr>\n",
       "      <th>Shimmer</th>\n",
       "      <td>0.025650</td>\n",
       "      <td>0.020240</td>\n",
       "      <td>0.016750</td>\n",
       "      <td>0.023090</td>\n",
       "      <td>0.017030</td>\n",
       "    </tr>\n",
       "    <tr>\n",
       "      <th>Shimmer(dB)</th>\n",
       "      <td>0.230000</td>\n",
       "      <td>0.179000</td>\n",
       "      <td>0.181000</td>\n",
       "      <td>0.327000</td>\n",
       "      <td>0.176000</td>\n",
       "    </tr>\n",
       "    <tr>\n",
       "      <th>Shimmer:APQ3</th>\n",
       "      <td>0.014380</td>\n",
       "      <td>0.009940</td>\n",
       "      <td>0.007340</td>\n",
       "      <td>0.011060</td>\n",
       "      <td>0.006790</td>\n",
       "    </tr>\n",
       "    <tr>\n",
       "      <th>Shimmer:APQ5</th>\n",
       "      <td>0.013090</td>\n",
       "      <td>0.010720</td>\n",
       "      <td>0.008440</td>\n",
       "      <td>0.012650</td>\n",
       "      <td>0.009290</td>\n",
       "    </tr>\n",
       "    <tr>\n",
       "      <th>Shimmer:APQ11</th>\n",
       "      <td>0.016620</td>\n",
       "      <td>0.016890</td>\n",
       "      <td>0.014580</td>\n",
       "      <td>0.019630</td>\n",
       "      <td>0.018190</td>\n",
       "    </tr>\n",
       "    <tr>\n",
       "      <th>Shimmer:DDA</th>\n",
       "      <td>0.043140</td>\n",
       "      <td>0.029820</td>\n",
       "      <td>0.022020</td>\n",
       "      <td>0.033170</td>\n",
       "      <td>0.020360</td>\n",
       "    </tr>\n",
       "    <tr>\n",
       "      <th>NHR</th>\n",
       "      <td>0.014290</td>\n",
       "      <td>0.011112</td>\n",
       "      <td>0.020220</td>\n",
       "      <td>0.027837</td>\n",
       "      <td>0.011625</td>\n",
       "    </tr>\n",
       "    <tr>\n",
       "      <th>HNR</th>\n",
       "      <td>21.640000</td>\n",
       "      <td>27.183000</td>\n",
       "      <td>23.047000</td>\n",
       "      <td>24.445000</td>\n",
       "      <td>26.126000</td>\n",
       "    </tr>\n",
       "    <tr>\n",
       "      <th>RPDE</th>\n",
       "      <td>0.418880</td>\n",
       "      <td>0.434930</td>\n",
       "      <td>0.462220</td>\n",
       "      <td>0.487300</td>\n",
       "      <td>0.471880</td>\n",
       "    </tr>\n",
       "    <tr>\n",
       "      <th>DFA</th>\n",
       "      <td>0.548420</td>\n",
       "      <td>0.564770</td>\n",
       "      <td>0.544050</td>\n",
       "      <td>0.577940</td>\n",
       "      <td>0.561220</td>\n",
       "    </tr>\n",
       "    <tr>\n",
       "      <th>PPE</th>\n",
       "      <td>0.160060</td>\n",
       "      <td>0.108100</td>\n",
       "      <td>0.210140</td>\n",
       "      <td>0.332770</td>\n",
       "      <td>0.193610</td>\n",
       "    </tr>\n",
       "  </tbody>\n",
       "</table>\n",
       "</div>"
      ],
      "text/plain": [
       "                       0          1          2          3          4\n",
       "subject#        1.000000   1.000000   1.000000   1.000000   1.000000\n",
       "age             5.000000   5.000000   5.000000   5.000000   5.000000\n",
       "sex             0.000000   0.000000   0.000000   0.000000   0.000000\n",
       "motor_UPDRS    28.199000  28.447000  28.695000  28.905000  29.187000\n",
       "total_UPDRS    34.000000  34.000000  35.000000  35.000000  36.000000\n",
       "Jitter(%)       0.006620   0.003000   0.004810   0.005280   0.003350\n",
       "Jitter(Abs)     0.000034   0.000017   0.000025   0.000027   0.000020\n",
       "Jitter:RAP      0.004010   0.001320   0.002050   0.001910   0.000930\n",
       "Jitter:PPQ5     0.003170   0.001500   0.002080   0.002640   0.001300\n",
       "Jitter:DDP      0.012040   0.003950   0.006160   0.005730   0.002780\n",
       "Shimmer         0.025650   0.020240   0.016750   0.023090   0.017030\n",
       "Shimmer(dB)     0.230000   0.179000   0.181000   0.327000   0.176000\n",
       "Shimmer:APQ3    0.014380   0.009940   0.007340   0.011060   0.006790\n",
       "Shimmer:APQ5    0.013090   0.010720   0.008440   0.012650   0.009290\n",
       "Shimmer:APQ11   0.016620   0.016890   0.014580   0.019630   0.018190\n",
       "Shimmer:DDA     0.043140   0.029820   0.022020   0.033170   0.020360\n",
       "NHR             0.014290   0.011112   0.020220   0.027837   0.011625\n",
       "HNR            21.640000  27.183000  23.047000  24.445000  26.126000\n",
       "RPDE            0.418880   0.434930   0.462220   0.487300   0.471880\n",
       "DFA             0.548420   0.564770   0.544050   0.577940   0.561220\n",
       "PPE             0.160060   0.108100   0.210140   0.332770   0.193610"
      ]
     },
     "execution_count": 449,
     "metadata": {},
     "output_type": "execute_result"
    }
   ],
   "source": [
    "df.head().T"
   ]
  },
  {
   "cell_type": "code",
   "execution_count": 450,
   "metadata": {},
   "outputs": [],
   "source": [
    "df.to_csv('D:/academic study/dissertation/FSVM-for-preference_learning/FSVM/datasets/Parkinson/data_parkinson_total_score.csv'\n",
    "          , index=0)"
   ]
  },
  {
   "cell_type": "markdown",
   "metadata": {},
   "source": [
    "# Modeling"
   ]
  },
  {
   "cell_type": "code",
   "execution_count": 349,
   "metadata": {},
   "outputs": [],
   "source": [
    "feature_set = ['age', 'sex', 'Jitter(%)', 'Jitter(Abs)', 'Jitter:RAP', 'Jitter:PPQ5', 'Jitter:DDP', 'Shimmer', 'Shimmer(dB)', \n",
    "            'Shimmer:APQ3', 'Shimmer:APQ5', 'Shimmer:APQ11', 'Shimmer:DDA', 'NHR', 'HNR', 'RPDE', 'DFA', 'PPE' ]"
   ]
  },
  {
   "cell_type": "code",
   "execution_count": 350,
   "metadata": {},
   "outputs": [],
   "source": [
    "from sklearn import preprocessing\n",
    "X = df[feature_set]\n",
    "y = df['total_UPDRS']\n",
    "X = preprocessing.scale(X)"
   ]
  },
  {
   "cell_type": "code",
   "execution_count": 351,
   "metadata": {},
   "outputs": [
    {
     "data": {
      "text/plain": [
       "2    2065\n",
       "3    1528\n",
       "1    1085\n",
       "4     793\n",
       "5     213\n",
       "0     191\n",
       "Name: total_UPDRS, dtype: int64"
      ]
     },
     "execution_count": 351,
     "metadata": {},
     "output_type": "execute_result"
    }
   ],
   "source": [
    "df['total_UPDRS'].value_counts()"
   ]
  },
  {
   "cell_type": "code",
   "execution_count": 352,
   "metadata": {},
   "outputs": [],
   "source": [
    "from sklearn.model_selection import train_test_split\n",
    "from sklearn.linear_model import LogisticRegression\n",
    "from sklearn.model_selection import cross_val_score\n",
    "X_train, X_test, y_train, y_test = train_test_split(X, y, test_size=0.20, random_state=0)"
   ]
  },
  {
   "cell_type": "code",
   "execution_count": 357,
   "metadata": {},
   "outputs": [],
   "source": [
    "tt = y_train.replace(1, 0).replace(2,1).replace(3,1).replace(4,1)"
   ]
  },
  {
   "cell_type": "code",
   "execution_count": 358,
   "metadata": {},
   "outputs": [
    {
     "data": {
      "text/plain": [
       "598     1\n",
       "4511    1\n",
       "5284    1\n",
       "1431    0\n",
       "3582    1\n",
       "       ..\n",
       "4931    1\n",
       "3264    0\n",
       "1653    1\n",
       "2607    1\n",
       "2732    0\n",
       "Name: total_UPDRS, Length: 4700, dtype: int64"
      ]
     },
     "execution_count": 358,
     "metadata": {},
     "output_type": "execute_result"
    }
   ],
   "source": [
    "tt"
   ]
  },
  {
   "cell_type": "code",
   "execution_count": 359,
   "metadata": {},
   "outputs": [
    {
     "data": {
      "text/plain": [
       "598     4\n",
       "4511    2\n",
       "5284    3\n",
       "1431    1\n",
       "3582    2\n",
       "       ..\n",
       "4931    3\n",
       "3264    1\n",
       "1653    2\n",
       "2607    2\n",
       "2732    1\n",
       "Name: total_UPDRS, Length: 4700, dtype: int64"
      ]
     },
     "execution_count": 359,
     "metadata": {},
     "output_type": "execute_result"
    }
   ],
   "source": [
    "y_train"
   ]
  },
  {
   "cell_type": "code",
   "execution_count": 375,
   "metadata": {},
   "outputs": [
    {
     "name": "stderr",
     "output_type": "stream",
     "text": [
      "C:\\Users\\My laptop\\anaconda3\\lib\\site-packages\\sklearn\\linear_model\\_logistic.py:762: ConvergenceWarning: lbfgs failed to converge (status=1):\n",
      "STOP: TOTAL NO. of ITERATIONS REACHED LIMIT.\n",
      "\n",
      "Increase the number of iterations (max_iter) or scale the data as shown in:\n",
      "    https://scikit-learn.org/stable/modules/preprocessing.html\n",
      "Please also refer to the documentation for alternative solver options:\n",
      "    https://scikit-learn.org/stable/modules/linear_model.html#logistic-regression\n",
      "  n_iter_i = _check_optimize_result(\n"
     ]
    },
    {
     "data": {
      "text/plain": [
       "LogisticRegression()"
      ]
     },
     "execution_count": 375,
     "metadata": {},
     "output_type": "execute_result"
    }
   ],
   "source": [
    "logit = LogisticRegression(fit_intercept=True, penalty='l2')\n",
    "logit.fit(X_train, y_train)"
   ]
  },
  {
   "cell_type": "code",
   "execution_count": 361,
   "metadata": {},
   "outputs": [
    {
     "data": {
      "text/plain": [
       "42.97872340425532"
      ]
     },
     "execution_count": 361,
     "metadata": {},
     "output_type": "execute_result"
    }
   ],
   "source": [
    "logit.score(X_test, y_test)*100"
   ]
  },
  {
   "cell_type": "code",
   "execution_count": 362,
   "metadata": {},
   "outputs": [],
   "source": [
    "logit_pred = logit.predict(X_test)"
   ]
  },
  {
   "cell_type": "code",
   "execution_count": 363,
   "metadata": {},
   "outputs": [
    {
     "data": {
      "text/plain": [
       "array([5, 1, 3, 2, 2, 3, 2, 3, 2], dtype=int64)"
      ]
     },
     "execution_count": 363,
     "metadata": {},
     "output_type": "execute_result"
    }
   ],
   "source": [
    "logit_pred[1:10]"
   ]
  },
  {
   "cell_type": "code",
   "execution_count": 364,
   "metadata": {},
   "outputs": [
    {
     "name": "stdout",
     "output_type": "stream",
     "text": [
      "0.8323404255319149\n",
      "0.4297872340425532\n"
     ]
    }
   ],
   "source": [
    "from sklearn.metrics import mean_absolute_error\n",
    "logit_pred = logit.predict(X_test)\n",
    "print(mean_absolute_error(y_test, logit_pred))\n",
    "print (logit.score(X_test, y_test))"
   ]
  },
  {
   "cell_type": "code",
   "execution_count": 369,
   "metadata": {},
   "outputs": [
    {
     "data": {
      "text/plain": [
       "(1175,)"
      ]
     },
     "execution_count": 369,
     "metadata": {},
     "output_type": "execute_result"
    }
   ],
   "source": [
    "logit_pred.shape"
   ]
  },
  {
   "cell_type": "code",
   "execution_count": 267,
   "metadata": {},
   "outputs": [
    {
     "data": {
      "text/html": [
       "<div>\n",
       "<style scoped>\n",
       "    .dataframe tbody tr th:only-of-type {\n",
       "        vertical-align: middle;\n",
       "    }\n",
       "\n",
       "    .dataframe tbody tr th {\n",
       "        vertical-align: top;\n",
       "    }\n",
       "\n",
       "    .dataframe thead th {\n",
       "        text-align: right;\n",
       "    }\n",
       "</style>\n",
       "<table border=\"1\" class=\"dataframe\">\n",
       "  <thead>\n",
       "    <tr style=\"text-align: right;\">\n",
       "      <th>Predict</th>\n",
       "      <th>0</th>\n",
       "      <th>1</th>\n",
       "      <th>2</th>\n",
       "      <th>3</th>\n",
       "      <th>4</th>\n",
       "      <th>5</th>\n",
       "      <th>All</th>\n",
       "    </tr>\n",
       "    <tr>\n",
       "      <th>Actual</th>\n",
       "      <th></th>\n",
       "      <th></th>\n",
       "      <th></th>\n",
       "      <th></th>\n",
       "      <th></th>\n",
       "      <th></th>\n",
       "      <th></th>\n",
       "    </tr>\n",
       "  </thead>\n",
       "  <tbody>\n",
       "    <tr>\n",
       "      <th>1</th>\n",
       "      <td>0</td>\n",
       "      <td>11</td>\n",
       "      <td>16</td>\n",
       "      <td>3</td>\n",
       "      <td>0</td>\n",
       "      <td>0</td>\n",
       "      <td>30</td>\n",
       "    </tr>\n",
       "    <tr>\n",
       "      <th>2</th>\n",
       "      <td>1</td>\n",
       "      <td>13</td>\n",
       "      <td>52</td>\n",
       "      <td>18</td>\n",
       "      <td>0</td>\n",
       "      <td>5</td>\n",
       "      <td>89</td>\n",
       "    </tr>\n",
       "    <tr>\n",
       "      <th>3</th>\n",
       "      <td>0</td>\n",
       "      <td>7</td>\n",
       "      <td>34</td>\n",
       "      <td>7</td>\n",
       "      <td>1</td>\n",
       "      <td>2</td>\n",
       "      <td>51</td>\n",
       "    </tr>\n",
       "    <tr>\n",
       "      <th>4</th>\n",
       "      <td>0</td>\n",
       "      <td>11</td>\n",
       "      <td>33</td>\n",
       "      <td>5</td>\n",
       "      <td>3</td>\n",
       "      <td>2</td>\n",
       "      <td>54</td>\n",
       "    </tr>\n",
       "    <tr>\n",
       "      <th>All</th>\n",
       "      <td>1</td>\n",
       "      <td>42</td>\n",
       "      <td>135</td>\n",
       "      <td>33</td>\n",
       "      <td>4</td>\n",
       "      <td>9</td>\n",
       "      <td>224</td>\n",
       "    </tr>\n",
       "  </tbody>\n",
       "</table>\n",
       "</div>"
      ],
      "text/plain": [
       "Predict  0   1    2   3  4  5  All\n",
       "Actual                            \n",
       "1        0  11   16   3  0  0   30\n",
       "2        1  13   52  18  0  5   89\n",
       "3        0   7   34   7  1  2   51\n",
       "4        0  11   33   5  3  2   54\n",
       "All      1  42  135  33  4  9  224"
      ]
     },
     "execution_count": 267,
     "metadata": {},
     "output_type": "execute_result"
    }
   ],
   "source": [
    "logit_pred = logit.predict(X_test)\n",
    "pd.crosstab(pd.Series(y_test, name = 'Actual'), pd.Series(logit_pred, name = 'Predict'), margins = True)"
   ]
  },
  {
   "cell_type": "code",
   "execution_count": 268,
   "metadata": {},
   "outputs": [
    {
     "name": "stdout",
     "output_type": "stream",
     "text": [
      "Accuracy is 0.43\n",
      "Precision is 0.37\n",
      "Recall is 0.36\n"
     ]
    }
   ],
   "source": [
    "from sklearn.metrics import accuracy_score, precision_score, recall_score\n",
    "print(\"Accuracy is {0:.2f}\".format(accuracy_score(y_test, logit_pred)))\n",
    "print(\"Precision is {0:.2f}\".format(precision_score(y_test, logit_pred, average='macro')))\n",
    "print(\"Recall is {0:.2f}\".format(recall_score(y_test, logit_pred, average='macro')))"
   ]
  },
  {
   "cell_type": "code",
   "execution_count": 386,
   "metadata": {},
   "outputs": [
    {
     "data": {
      "text/plain": [
       "SVC()"
      ]
     },
     "execution_count": 386,
     "metadata": {},
     "output_type": "execute_result"
    }
   ],
   "source": [
    "# svm\n",
    "from sklearn import svm\n",
    "clf_svm = svm.SVC()\n",
    "clf_svm.fit(X_train, y_train)"
   ]
  },
  {
   "cell_type": "code",
   "execution_count": 387,
   "metadata": {},
   "outputs": [
    {
     "data": {
      "text/plain": [
       "60.68085106382979"
      ]
     },
     "execution_count": 387,
     "metadata": {},
     "output_type": "execute_result"
    }
   ],
   "source": [
    "clf_svm.score(X_test, y_test)*100"
   ]
  },
  {
   "cell_type": "code",
   "execution_count": 271,
   "metadata": {},
   "outputs": [
    {
     "name": "stdout",
     "output_type": "stream",
     "text": [
      "0.5276595744680851\n",
      "0.6068085106382979\n"
     ]
    }
   ],
   "source": [
    "svm_pred = clf_svm.predict(X_test)\n",
    "print(mean_absolute_error(y_test, svm_pred))\n",
    "print (clf_svm.score(X_test, y_test))"
   ]
  },
  {
   "cell_type": "code",
   "execution_count": 412,
   "metadata": {},
   "outputs": [
    {
     "data": {
      "text/plain": [
       "array([4, 2, 2, ..., 4, 2, 1], dtype=int64)"
      ]
     },
     "execution_count": 412,
     "metadata": {},
     "output_type": "execute_result"
    }
   ],
   "source": [
    "svm_pred"
   ]
  },
  {
   "cell_type": "code",
   "execution_count": 418,
   "metadata": {},
   "outputs": [
    {
     "data": {
      "text/plain": [
       "array([3, 5, 2, ..., 4, 3, 2], dtype=int64)"
      ]
     },
     "execution_count": 418,
     "metadata": {},
     "output_type": "execute_result"
    }
   ],
   "source": [
    "y_test.values"
   ]
  },
  {
   "cell_type": "code",
   "execution_count": 273,
   "metadata": {},
   "outputs": [
    {
     "data": {
      "text/plain": [
       "array([6, 7, 3, ..., 6, 4, 2], dtype=int64)"
      ]
     },
     "execution_count": 273,
     "metadata": {},
     "output_type": "execute_result"
    }
   ],
   "source": [
    "logit_pred+svm_pred"
   ]
  },
  {
   "cell_type": "code",
   "execution_count": 45,
   "metadata": {},
   "outputs": [
    {
     "data": {
      "text/plain": [
       "KNeighborsClassifier(n_neighbors=3)"
      ]
     },
     "execution_count": 45,
     "metadata": {},
     "output_type": "execute_result"
    }
   ],
   "source": [
    "from sklearn.neighbors import KNeighborsClassifier\n",
    "clf_knn = KNeighborsClassifier(n_neighbors=3)\n",
    "clf_knn.fit(X_train, y_train)"
   ]
  },
  {
   "cell_type": "code",
   "execution_count": 46,
   "metadata": {},
   "outputs": [
    {
     "data": {
      "text/plain": [
       "72.0"
      ]
     },
     "execution_count": 46,
     "metadata": {},
     "output_type": "execute_result"
    }
   ],
   "source": [
    "clf_knn.score(X_test, y_test)*100"
   ]
  },
  {
   "cell_type": "code",
   "execution_count": 47,
   "metadata": {},
   "outputs": [
    {
     "name": "stdout",
     "output_type": "stream",
     "text": [
      "0.34638297872340423\n",
      "0.72\n"
     ]
    }
   ],
   "source": [
    "knn_pred = clf_knn.predict(X_test)\n",
    "print(mean_absolute_error(y_test, knn_pred))\n",
    "print (clf_knn.score(X_test, y_test))"
   ]
  },
  {
   "cell_type": "code",
   "execution_count": null,
   "metadata": {},
   "outputs": [],
   "source": []
  }
 ],
 "metadata": {
  "kernelspec": {
   "display_name": "Python 3",
   "language": "python",
   "name": "python3"
  },
  "language_info": {
   "codemirror_mode": {
    "name": "ipython",
    "version": 3
   },
   "file_extension": ".py",
   "mimetype": "text/x-python",
   "name": "python",
   "nbconvert_exporter": "python",
   "pygments_lexer": "ipython3",
   "version": "3.8.5"
  }
 },
 "nbformat": 4,
 "nbformat_minor": 4
}
